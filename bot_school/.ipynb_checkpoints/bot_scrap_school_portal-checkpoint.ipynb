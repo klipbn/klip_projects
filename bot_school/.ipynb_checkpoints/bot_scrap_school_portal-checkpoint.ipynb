{
 "cells": [
  {
   "cell_type": "markdown",
   "id": "896de264",
   "metadata": {},
   "source": [
    "https://eonofrey.medium.com/scraping-data-behind-site-logins-with-python-ee0676f523ee"
   ]
  },
  {
   "cell_type": "code",
   "execution_count": 1,
   "id": "fe2e0981",
   "metadata": {},
   "outputs": [],
   "source": [
    "#%load_ext lab_black"
   ]
  },
  {
   "cell_type": "code",
   "execution_count": 2,
   "id": "a27878cc",
   "metadata": {},
   "outputs": [],
   "source": [
    "# !pip install pyTelegramBotAPI"
   ]
  },
  {
   "cell_type": "code",
   "execution_count": 3,
   "id": "af66087d",
   "metadata": {},
   "outputs": [],
   "source": [
    "import pandas as pd\n",
    "from bs4 import BeautifulSoup\n",
    "import requests\n",
    "from bs4 import BeautifulSoup\n",
    "from datetime import datetime\n",
    "from tqdm import tqdm\n",
    "from urllib.parse import urljoin\n",
    "import telebot\n",
    "import numpy as np\n",
    "import matplotlib.pyplot as plt"
   ]
  },
  {
   "cell_type": "code",
   "execution_count": 4,
   "id": "b6d859a2",
   "metadata": {},
   "outputs": [
    {
     "data": {
      "text/plain": [
       "'https://images.chesscomfiles.com/uploads/v1/article/28107.cfbaf8f1.630x354o.e0db3c2dede0.gif'"
      ]
     },
     "execution_count": 4,
     "metadata": {},
     "output_type": "execute_result"
    }
   ],
   "source": [
    "# Start the session\n",
    "session = requests.Session()\n",
    "\n",
    "# Create the payload\n",
    "payload = {'_username':'Klipoff', \n",
    "          '_password':'Sampo1111'\n",
    "         }\n",
    "\n",
    "# Post the payload to the site to log in\n",
    "s = session.post(\"https://www.chess.com/login_check\", data=payload)\n",
    "\n",
    "# Navigate to the next page and scrape the data\n",
    "s = session.get('https://www.chess.com/today')\n",
    "\n",
    "soup = BeautifulSoup(s.text, 'html.parser')\n",
    "soup.find('img')['src']\n",
    "# print(soup.prettify())"
   ]
  },
  {
   "cell_type": "markdown",
   "id": "c7eb4793",
   "metadata": {},
   "source": [
    "# Scrap school portal"
   ]
  },
  {
   "cell_type": "markdown",
   "id": "67ca2b3e",
   "metadata": {},
   "source": [
    "## Получение данных с сайта"
   ]
  },
  {
   "cell_type": "code",
   "execution_count": 5,
   "id": "309e2130",
   "metadata": {},
   "outputs": [],
   "source": [
    "# session = requests.Session()\n",
    "# payload = {'login':'veronikavoronko', \n",
    "#           'password':'Sampo1111'\n",
    "#          }\n",
    "# s = session.post(\"https://login.school.mosreg.ru/login/?ReturnUrl=https%3a%2f%2fschool.mosreg.ru%2fcurrentprogressmodeselector\", data=payload)\n",
    "# s = session.get('https://school.mosreg.ru/currentprogress/result/2000003074022/50774/2021/21.03.2022?UserComeFromSelector=True')\n",
    "# soup = BeautifulSoup(s.text, 'html.parser')"
   ]
  },
  {
   "cell_type": "markdown",
   "id": "a93c27a4",
   "metadata": {},
   "source": [
    "## Получение оценок"
   ]
  },
  {
   "cell_type": "code",
   "execution_count": 6,
   "id": "944914b8",
   "metadata": {},
   "outputs": [],
   "source": [
    "# progress = soup.select(\"div.current-progress-marks\")\n",
    "# progress = progress[0].select(\"b.b\")\n",
    "# rating = []\n",
    "# subject = []\n",
    "\n",
    "# for i in range(len(progress)):\n",
    "#     try:\n",
    "#         if i % 2 == 0:\n",
    "#             rating.append(progress[i].text)\n",
    "#         else:\n",
    "#             subject.append(progress[i].text)\n",
    "#     except:\n",
    "#         break"
   ]
  },
  {
   "cell_type": "code",
   "execution_count": 7,
   "id": "6eb579a7",
   "metadata": {
    "scrolled": true
   },
   "outputs": [],
   "source": [
    "# d = {'Оценка': rating, 'Предмет': subject}\n",
    "# df = pd.DataFrame(data=d)\n",
    "# df"
   ]
  },
  {
   "cell_type": "code",
   "execution_count": 8,
   "id": "a06401da",
   "metadata": {},
   "outputs": [],
   "source": [
    "# fig, ax = plt.subplots()\n",
    "# fig.patch.set_visible(False)\n",
    "# ax.axis('off')\n",
    "# fig.patch.set_visible(False)\n",
    "# ax.axis('off')\n",
    "# ax.axis('tight')\n",
    "# table = ax.table(cellText=df.values, colLabels=df.columns, loc='center')\n",
    "# table.set_fontsize(14)\n",
    "# table.scale(1,1.1)\n",
    "# fig.tight_layout()\n",
    "\n",
    "# plt.savefig('pic.png')\n",
    "\n",
    "# # plt.close()"
   ]
  },
  {
   "cell_type": "markdown",
   "id": "cf634fa4",
   "metadata": {},
   "source": [
    "Добавим функцию для поиска информации в журнале:"
   ]
  },
  {
   "cell_type": "code",
   "execution_count": 9,
   "id": "c6682410",
   "metadata": {},
   "outputs": [],
   "source": [
    "def request_school(day_month_year):    \n",
    "    session = requests.Session()\n",
    "    payload = {'login':'veronikavoronko', \n",
    "              'password':'Sampo1111'\n",
    "             }\n",
    "    s = session.post(\"https://login.school.mosreg.ru/login/?ReturnUrl=https%3a%2f%2fschool.mosreg.ru%2fcurrentprogressmodeselector\", data=payload)\n",
    "    s = session.get(f\"https://school.mosreg.ru/currentprogress/result/2000003074022/50774/2021/{day_month_year}?UserComeFromSelector=True\")\n",
    "    soup = BeautifulSoup(s.text, 'html.parser')\n",
    "\n",
    "    progress = soup.select(\"div.current-progress-marks\")\n",
    "    progress = progress[0].select(\"b.b\")\n",
    "    rating = []\n",
    "    subject = []\n",
    "\n",
    "    for i in range(len(progress)):\n",
    "        try:\n",
    "            if i % 2 == 0:\n",
    "                rating.append(progress[i].text)\n",
    "            else:\n",
    "                subject.append(progress[i].text)\n",
    "        except:\n",
    "            break\n",
    "    d = {'Оценка': rating, 'Предмет': subject}\n",
    "    df = pd.DataFrame(data=d)\n",
    "\n",
    "    \n",
    "    fig, ax = plt.subplots()\n",
    "    fig.patch.set_visible(False)\n",
    "    ax.axis('off')\n",
    "    fig.patch.set_visible(False)\n",
    "    ax.axis('off')\n",
    "    ax.axis('tight')\n",
    "    table = ax.table(cellText=df.values, colLabels=df.columns, loc='center')\n",
    "    table.set_fontsize(14)\n",
    "    table.scale(1,1)\n",
    "    fig.tight_layout()\n",
    "    plt.savefig('pic.png')\n",
    "    plt.close()\n",
    "    if len(df) == 0:\n",
    "        return 'Данных нет'"
   ]
  },
  {
   "cell_type": "code",
   "execution_count": 10,
   "id": "be63a78e",
   "metadata": {},
   "outputs": [],
   "source": [
    "# request_school('28.03')"
   ]
  },
  {
   "cell_type": "markdown",
   "id": "25210058",
   "metadata": {},
   "source": [
    "## Пишем бота"
   ]
  },
  {
   "cell_type": "code",
   "execution_count": 11,
   "id": "7cd7ea19",
   "metadata": {},
   "outputs": [],
   "source": [
    "TOKEN = '5250223964:AAHY7DKFov6yNyiHn82wq1lwn9K3-G-YpE4'\n",
    "tb = telebot.TeleBot(TOKEN)"
   ]
  },
  {
   "cell_type": "code",
   "execution_count": 12,
   "id": "91b19736",
   "metadata": {},
   "outputs": [],
   "source": [
    "features = ''\n",
    "goal = ''\n",
    "age = 0\n",
    "\n",
    "@tb.message_handler(content_types=['text', 'photo'])\n",
    "\n",
    "# приветсвие\n",
    "def start(message):\n",
    "    if message.text == '/poehali':\n",
    "        tb.send_message(message.from_user.id, \"Привет. Я бот, который отправит текущую успеваемость твоего ребенка. \")\n",
    "        tb.send_message(message.from_user.id, \"Для этого нужно будет отправить месяц и день начала рабочей недели. Нажми на: /give_credits\")\n",
    "        tb.register_next_step_handler(message, get_features); # следующий шаг – функция get_features\n",
    "    else:\n",
    "        tb.send_message(message.from_user.id, 'Нажми на /poehali')\n",
    "\n",
    "def get_features(message): # получаем в каком столбце будем искать\n",
    "    global features\n",
    "    features = message.text\n",
    "    if message.text == '/give_credits':\n",
    "      tb.send_message(message.from_user.id, 'Напиши, например: 13.09.2021 или 28.03.2022')\n",
    "      tb.register_next_step_handler(message, give_credits)\n",
    "    else:\n",
    "      tb.send_message(message.from_user.id, 'Неправильный формат ввода данных. Правильно: 28.03.2022 (Начало рабочей недели). Для нового поиска нажми на /search')\n",
    "\n",
    "\n",
    "def give_credits(message): # получаем параметр поиска для телефона\n",
    "    try:\n",
    "        photo = open('pic.png', 'rb')\n",
    "        tb.send_message(message.from_user.id, f\"Оценка успеваемости Лили за неделю: {message.text}\")\n",
    "        request_school(message.text)\n",
    "        tb.send_photo(message.from_user.id, photo) \n",
    "    except:\n",
    "        tb.send_message(message.from_user.id, f\"Данных за период {message.text} не найдено. Для нового поиска нажми на /poehali\")  "
   ]
  },
  {
   "cell_type": "code",
   "execution_count": 13,
   "id": "bc93f6d3",
   "metadata": {},
   "outputs": [],
   "source": [
    "tb.polling(none_stop=True, interval=0)"
   ]
  }
 ],
 "metadata": {
  "celltoolbar": "Raw Cell Format",
  "colab": {
   "name": "Sem_9_Olferuk_Aleksand_ds31_Parsing.ipynb",
   "provenance": []
  },
  "kernelspec": {
   "display_name": "Python 3 (ipykernel)",
   "language": "python",
   "name": "python3"
  },
  "language_info": {
   "codemirror_mode": {
    "name": "ipython",
    "version": 3
   },
   "file_extension": ".py",
   "mimetype": "text/x-python",
   "name": "python",
   "nbconvert_exporter": "python",
   "pygments_lexer": "ipython3",
   "version": "3.9.7"
  },
  "toc": {
   "base_numbering": 1,
   "nav_menu": {},
   "number_sections": true,
   "sideBar": true,
   "skip_h1_title": false,
   "title_cell": "Table of Contents",
   "title_sidebar": "Contents",
   "toc_cell": false,
   "toc_position": {},
   "toc_section_display": true,
   "toc_window_display": true
  }
 },
 "nbformat": 4,
 "nbformat_minor": 5
}
