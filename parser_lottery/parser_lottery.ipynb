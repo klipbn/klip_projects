{
  "cells": [
    {
      "cell_type": "markdown",
      "id": "035ea31a",
      "metadata": {
        "id": "035ea31a"
      },
      "source": [
        "# Parser nationallottery"
      ]
    },
    {
      "cell_type": "markdown",
      "id": "a5e772b6",
      "metadata": {},
      "source": [
        "Данной работе посмотрим на сайты лотерей России, попарсим данные, а также проверим действительно лотереи честные."
      ]
    },
    {
      "cell_type": "code",
      "execution_count": null,
      "id": "0ecfc546",
      "metadata": {
        "ExecuteTime": {
          "end_time": "2022-07-18T07:05:28.840410Z",
          "start_time": "2022-07-18T07:05:26.279429Z"
        },
        "id": "0ecfc546"
      },
      "outputs": [],
      "source": [
        "from matplotlib import pyplot as plt\n",
        "import seaborn as sns"
      ]
    },
    {
      "cell_type": "code",
      "execution_count": null,
      "id": "2b1e9958",
      "metadata": {
        "ExecuteTime": {
          "end_time": "2022-07-18T13:14:46.336341Z",
          "start_time": "2022-07-18T13:14:45.558606Z"
        },
        "id": "2b1e9958"
      },
      "outputs": [],
      "source": [
        "import warnings\n",
        "warnings.filterwarnings('ignore')\n",
        "\n",
        "import pandas as pd\n",
        "import requests\n",
        "import re\n",
        "\n",
        "from bs4 import BeautifulSoup\n",
        "from urllib.parse import urljoin\n",
        "from selenium.webdriver import Chrome\n",
        "\n",
        "import certifi\n",
        "import ssl\n",
        "from urllib.request import urlopen"
      ]
    },
    {
      "cell_type": "code",
      "execution_count": null,
      "id": "9b39478f",
      "metadata": {
        "ExecuteTime": {
          "end_time": "2022-07-17T15:38:37.580297Z",
          "start_time": "2022-07-17T15:38:37.562384Z"
        },
        "id": "9b39478f"
      },
      "outputs": [],
      "source": [
        "pd.options.display.float_format = '{:20,.0f}'.format\n",
        "pd.set_option('display.max_columns', None)\n",
        "pd.set_option('display.max_rows', None)\n",
        "pd.set_option('display.max_colwidth', None)"
      ]
    },
    {
      "cell_type": "markdown",
      "id": "912363d7",
      "metadata": {
        "id": "912363d7"
      },
      "source": [
        "### In cycle "
      ]
    },
    {
      "cell_type": "code",
      "execution_count": null,
      "id": "dc11e7b9",
      "metadata": {
        "ExecuteTime": {
          "end_time": "2022-07-15T14:38:46.245029Z",
          "start_time": "2022-07-15T14:38:28.033685Z"
        },
        "id": "dc11e7b9"
      },
      "outputs": [],
      "source": [
        "for j in range(1, 4):\n",
        "    driver = Chrome(executable_path=f\"\\\\chromedriver.exe\")\n",
        "    driver.get(f\"{sitee}/{j:06d}\")\n",
        "    soup = BeautifulSoup(driver.page_source, \"lxml\")\n",
        "    driver.quit()\n",
        "\n",
        "    title_class = soup.find_all(class_=re.compile('Title'))\n",
        "    text_wrapper_class = soup.find_all(class_=re.compile('TextWrapper'))\n",
        "\n",
        "    text_for_list = []\n",
        "    for i in range(len(text_wrapper_class[1:35])):\n",
        "        text_for_list.append(text_wrapper_class[1:35][i].text)\n",
        "    for i in range(len(title_class)):\n",
        "        text_for_list.append(title_class[i].text)\n",
        "\n",
        "    good_list_text = []\n",
        "    for i in range(len(text_for_list)):\n",
        "        if text_for_list[i] == 'Лотереи':\n",
        "            good_list_text.append(text_for_list[i])\n",
        "            good_list_text.append(text_for_list[i+2])    \n",
        "        elif text_for_list[i] == 'Дата тиража:':\n",
        "            good_list_text.append(text_for_list[i])\n",
        "            good_list_text.append(text_for_list[i+1])\n",
        "        elif text_for_list[i] == 'Время тиража:':\n",
        "            good_list_text.append(text_for_list[i])\n",
        "            good_list_text.append(text_for_list[i+1])\n",
        "        elif text_for_list[i] == 'Место проведения:':\n",
        "            good_list_text.append(text_for_list[i])\n",
        "            good_list_text.append(text_for_list[i+1])        \n",
        "        elif text_for_list[i] == 'Число билетов, принявших участие в розыгрыше:':\n",
        "            good_list_text.append(text_for_list[i])\n",
        "            good_list_text.append(text_for_list[i+1])\n",
        "        elif text_for_list[i] == 'Общая сумма выигрышей:':\n",
        "            good_list_text.append(text_for_list[i])\n",
        "            good_list_text.append(text_for_list[i+1])\n",
        "        elif text_for_list[i] == 'Суперприз:':\n",
        "            good_list_text.append(text_for_list[i])\n",
        "            good_list_text.append(text_for_list[i+1])   \n",
        "        elif text_for_list[i] == 'Выигрышная комбинация':\n",
        "            good_list_text.append(text_for_list[i])\n",
        "            good_list_text.append(text_for_list[i-1])\n",
        "\n",
        "    df = pd.DataFrame(good_list_text[1::2]).T\n",
        "    df.columns = good_list_text[0::2]\n",
        "\n",
        "    if j == 1:\n",
        "        df_null1 = pd.DataFrame(columns=['Лотереи', 'Дата тиража:', 'Время тиража:', 'Место проведения:',\n",
        "           'Число билетов, принявших участие в розыгрыше:',\n",
        "           'Общая сумма выигрышей:', 'Суперприз:', 'Выигрышная комбинация'])\n",
        "        df_null1 = pd.concat([df_null1, df])\n",
        "    else:\n",
        "        df_null1 = pd.concat([df_null1, df])"
      ]
    },
    {
      "cell_type": "code",
      "execution_count": null,
      "id": "e7690a86",
      "metadata": {
        "ExecuteTime": {
          "end_time": "2022-07-15T14:38:46.260008Z",
          "start_time": "2022-07-15T14:38:46.245029Z"
        },
        "id": "e7690a86",
        "outputId": "68fb9bab-114e-4190-eb94-79b39947e979"
      },
      "outputs": [
        {
          "data": {
            "text/html": [
              "<div>\n",
              "<style scoped>\n",
              "    .dataframe tbody tr th:only-of-type {\n",
              "        vertical-align: middle;\n",
              "    }\n",
              "\n",
              "    .dataframe tbody tr th {\n",
              "        vertical-align: top;\n",
              "    }\n",
              "\n",
              "    .dataframe thead th {\n",
              "        text-align: right;\n",
              "    }\n",
              "</style>\n",
              "<table border=\"1\" class=\"dataframe\">\n",
              "  <thead>\n",
              "    <tr style=\"text-align: right;\">\n",
              "      <th></th>\n",
              "      <th>Лотереи</th>\n",
              "      <th>Дата тиража:</th>\n",
              "      <th>Время тиража:</th>\n",
              "      <th>Место проведения:</th>\n",
              "      <th>Число билетов, принявших участие в розыгрыше:</th>\n",
              "      <th>Общая сумма выигрышей:</th>\n",
              "      <th>Суперприз:</th>\n",
              "      <th>Выигрышная комбинация</th>\n",
              "    </tr>\n",
              "  </thead>\n",
              "  <tbody>\n",
              "    <tr>\n",
              "      <th>0</th>\n",
              "      <td>5 из 37</td>\n",
              "      <td>16 мая 2022</td>\n",
              "      <td>15:15 МСК</td>\n",
              "      <td>г. Москва</td>\n",
              "      <td>3</td>\n",
              "      <td>300 ₽</td>\n",
              "      <td>10 000 ₽</td>\n",
              "      <td>Итоги тиража № 000001</td>\n",
              "    </tr>\n",
              "    <tr>\n",
              "      <th>0</th>\n",
              "      <td>5 из 37</td>\n",
              "      <td>23 мая 2022</td>\n",
              "      <td>15:15 МСК</td>\n",
              "      <td>г. Москва</td>\n",
              "      <td>6</td>\n",
              "      <td>600 ₽</td>\n",
              "      <td>10 000 ₽</td>\n",
              "      <td>Итоги тиража № 000002</td>\n",
              "    </tr>\n",
              "    <tr>\n",
              "      <th>0</th>\n",
              "      <td>5 из 37</td>\n",
              "      <td>24 мая 2022</td>\n",
              "      <td>15:15 МСК</td>\n",
              "      <td>г. Москва</td>\n",
              "      <td>3</td>\n",
              "      <td>300 ₽</td>\n",
              "      <td>10 000 ₽</td>\n",
              "      <td>Итоги тиража № 000003</td>\n",
              "    </tr>\n",
              "  </tbody>\n",
              "</table>\n",
              "</div>"
            ],
            "text/plain": [
              "   Лотереи Дата тиража: Время тиража: Место проведения:  \\\n",
              "0  5 из 37  16 мая 2022     15:15 МСК         г. Москва   \n",
              "0  5 из 37  23 мая 2022     15:15 МСК         г. Москва   \n",
              "0  5 из 37  24 мая 2022     15:15 МСК         г. Москва   \n",
              "\n",
              "  Число билетов, принявших участие в розыгрыше: Общая сумма выигрышей:  \\\n",
              "0                                             3                  300 ₽   \n",
              "0                                             6                  600 ₽   \n",
              "0                                             3                  300 ₽   \n",
              "\n",
              "  Суперприз:  Выигрышная комбинация  \n",
              "0   10 000 ₽  Итоги тиража № 000001  \n",
              "0   10 000 ₽  Итоги тиража № 000002  \n",
              "0   10 000 ₽  Итоги тиража № 000003  "
            ]
          },
          "execution_count": 364,
          "metadata": {},
          "output_type": "execute_result"
        }
      ],
      "source": [
        "df_null1"
      ]
    },
    {
      "cell_type": "markdown",
      "id": "5e9290f1",
      "metadata": {
        "ExecuteTime": {
          "end_time": "2022-07-15T14:50:02.597402Z",
          "start_time": "2022-07-15T14:50:02.583411Z"
        },
        "id": "5e9290f1"
      },
      "source": [
        "### In function all"
      ]
    },
    {
      "cell_type": "code",
      "execution_count": null,
      "id": "c12865f2",
      "metadata": {
        "ExecuteTime": {
          "end_time": "2022-07-17T15:38:37.580297Z",
          "start_time": "2022-07-17T15:38:37.562384Z"
        },
        "id": "c12865f2"
      },
      "outputs": [],
      "source": [
        "pd.options.display.float_format = '{:20,.0f}'.format\n",
        "pd.set_option('display.max_columns', None)\n",
        "pd.set_option('display.max_rows', None)\n",
        "pd.set_option('display.max_colwidth', None)"
      ]
    },
    {
      "cell_type": "code",
      "execution_count": null,
      "id": "8056e0f0",
      "metadata": {
        "ExecuteTime": {
          "end_time": "2022-07-17T14:39:48.184648Z",
          "start_time": "2022-07-17T14:39:48.160479Z"
        },
        "id": "8056e0f0"
      },
      "outputs": [],
      "source": [
        "def pars_nationallottery(site, start, finish):\n",
        "    try:\n",
        "        for j in range(start, finish):\n",
        "            driver = Chrome(executable_path=f\"\\\\chromedriver.exe\")\n",
        "            driver.get(f\"{site}/{j:06d}\")\n",
        "            soup = BeautifulSoup(driver.page_source, \"lxml\")\n",
        "            driver.quit()\n",
        "\n",
        "            title_class = soup.find_all(class_=re.compile('Title'))\n",
        "            text_wrapper_class = soup.find_all(class_=re.compile('TextWrapper'))\n",
        "\n",
        "            text_for_list = []\n",
        "            for i in range(len(text_wrapper_class[1:500])):\n",
        "                text_for_list.append(text_wrapper_class[1:500][i].text)\n",
        "            for i in range(len(title_class)):\n",
        "                text_for_list.append(title_class[i].text)\n",
        "\n",
        "            good_list_text = []\n",
        "            for i in range(len(text_for_list)):\n",
        "                if text_for_list[i] == 'Лотереи':\n",
        "                    good_list_text.append(text_for_list[i])\n",
        "                    good_list_text.append(text_for_list[i+2])    \n",
        "                elif text_for_list[i] == 'Дата тиража:':\n",
        "                    good_list_text.append(text_for_list[i])\n",
        "                    good_list_text.append(text_for_list[i+1])\n",
        "                elif text_for_list[i] == 'Время тиража:':\n",
        "                    good_list_text.append(text_for_list[i])\n",
        "                    good_list_text.append(text_for_list[i+1])\n",
        "                elif text_for_list[i] == 'Место проведения:':\n",
        "                    good_list_text.append(text_for_list[i])\n",
        "                    good_list_text.append(text_for_list[i+1])        \n",
        "                elif text_for_list[i] == 'Число билетов, принявших участие в розыгрыше:':\n",
        "                    good_list_text.append(text_for_list[i])\n",
        "                    good_list_text.append(text_for_list[i+1])\n",
        "                elif text_for_list[i] == 'Общая сумма выигрышей:':\n",
        "                    good_list_text.append(text_for_list[i])\n",
        "                    good_list_text.append(text_for_list[i+1])\n",
        "                elif text_for_list[i] == 'Суперприз:':\n",
        "                    good_list_text.append(text_for_list[i])\n",
        "                    good_list_text.append(text_for_list[i+1])   \n",
        "\n",
        "            good_list_text.append('Тираж №')\n",
        "            good_list_text.append(f\"{j:06d}\")\n",
        "            good_list_text.append('Ссылка на тираж')\n",
        "            good_list_text.append(f\"{site}/{j:06d}\")           \n",
        "            \n",
        "            df = pd.DataFrame(good_list_text[1::2]).T\n",
        "            df.columns = good_list_text[0::2]\n",
        "\n",
        "            if j == start:\n",
        "                df_full = pd.DataFrame(columns=['Лотереи', 'Дата тиража:', 'Время тиража:', 'Место проведения:',\n",
        "                   'Число билетов, принявших участие в розыгрыше:',\n",
        "                   'Общая сумма выигрышей:', 'Суперприз:', 'Тираж №', 'Ссылка на тираж'])\n",
        "                df_full = pd.concat([df_full, df])\n",
        "            else:\n",
        "                df_full = pd.concat([df_full, df])\n",
        "    except:\n",
        "        return df_full\n",
        "    \n",
        "    return df_full"
      ]
    },
    {
      "cell_type": "code",
      "execution_count": null,
      "id": "a52387ea",
      "metadata": {
        "ExecuteTime": {
          "end_time": "2022-07-17T14:19:53.175127Z",
          "start_time": "2022-07-17T10:53:36.087062Z"
        },
        "id": "a52387ea"
      },
      "outputs": [],
      "source": [
        "df_5_37 = pars_nationallottery('https://nationallottery.ru/lottery/digital-5x37/history/104011', 1, 57)\n",
        "df_5_36_speed = pars_nationallottery('https://nationallottery.ru/lottery/digital-5x36/history/101031', 1, 167)\n",
        "df_5_50= pars_nationallottery('https://nationallottery.ru/lottery/digital-5x50/history/101011', 1, 59)\n",
        "df_super_8 = pars_nationallottery('https://nationallottery.ru/lottery/digital-8x20/history/101051', 1, 815)\n",
        "df_3_3 = pars_nationallottery('https://nationallottery.ru/lottery/bingo-3x3/history/102091', 1, 755)\n",
        "df_bingo_75 = pars_nationallottery('https://nationallottery.ru/lottery/bingo-75/history/102051', 1, 138)"
      ]
    },
    {
      "cell_type": "code",
      "execution_count": null,
      "id": "0751e148",
      "metadata": {
        "ExecuteTime": {
          "end_time": "2022-07-17T14:19:53.206217Z",
          "start_time": "2022-07-17T14:19:53.175127Z"
        },
        "id": "0751e148"
      },
      "outputs": [],
      "source": [
        "df_full = pd.concat([df_5_37, df_5_36_speed, df_5_50, df_super_8, df_3_3, df_bingo_75])"
      ]
    },
    {
      "cell_type": "code",
      "execution_count": null,
      "id": "7a9f97c4",
      "metadata": {
        "ExecuteTime": {
          "end_time": "2022-07-17T14:19:53.353152Z",
          "start_time": "2022-07-17T14:19:53.208183Z"
        },
        "id": "7a9f97c4",
        "outputId": "8710de9e-3fd1-42c5-ac2e-5450a4f5100a"
      },
      "outputs": [
        {
          "data": {
            "text/html": [
              "<div>\n",
              "<style scoped>\n",
              "    .dataframe tbody tr th:only-of-type {\n",
              "        vertical-align: middle;\n",
              "    }\n",
              "\n",
              "    .dataframe tbody tr th {\n",
              "        vertical-align: top;\n",
              "    }\n",
              "\n",
              "    .dataframe thead th {\n",
              "        text-align: right;\n",
              "    }\n",
              "</style>\n",
              "<table border=\"1\" class=\"dataframe\">\n",
              "  <thead>\n",
              "    <tr style=\"text-align: right;\">\n",
              "      <th></th>\n",
              "      <th>Лотереи</th>\n",
              "      <th>Дата тиража:</th>\n",
              "      <th>Время тиража:</th>\n",
              "      <th>Место проведения:</th>\n",
              "      <th>Число билетов, принявших участие в розыгрыше:</th>\n",
              "      <th>Общая сумма выигрышей:</th>\n",
              "      <th>Суперприз:</th>\n",
              "      <th>Тираж №</th>\n",
              "      <th>Ссылка на тираж</th>\n",
              "    </tr>\n",
              "  </thead>\n",
              "  <tbody>\n",
              "    <tr>\n",
              "      <th>0</th>\n",
              "      <td>5 из 37</td>\n",
              "      <td>16 мая 2022</td>\n",
              "      <td>15:15 МСК</td>\n",
              "      <td>г. Москва</td>\n",
              "      <td>3</td>\n",
              "      <td>300 ₽</td>\n",
              "      <td>10 000 ₽</td>\n",
              "      <td>000001</td>\n",
              "      <td>https://nationallottery.ru/lottery/digital-5x3...</td>\n",
              "    </tr>\n",
              "    <tr>\n",
              "      <th>0</th>\n",
              "      <td>5 из 37</td>\n",
              "      <td>23 мая 2022</td>\n",
              "      <td>15:15 МСК</td>\n",
              "      <td>г. Москва</td>\n",
              "      <td>6</td>\n",
              "      <td>600 ₽</td>\n",
              "      <td>10 000 ₽</td>\n",
              "      <td>000002</td>\n",
              "      <td>https://nationallottery.ru/lottery/digital-5x3...</td>\n",
              "    </tr>\n",
              "    <tr>\n",
              "      <th>0</th>\n",
              "      <td>5 из 37</td>\n",
              "      <td>24 мая 2022</td>\n",
              "      <td>15:15 МСК</td>\n",
              "      <td>г. Москва</td>\n",
              "      <td>3</td>\n",
              "      <td>300 ₽</td>\n",
              "      <td>10 000 ₽</td>\n",
              "      <td>000003</td>\n",
              "      <td>https://nationallottery.ru/lottery/digital-5x3...</td>\n",
              "    </tr>\n",
              "    <tr>\n",
              "      <th>0</th>\n",
              "      <td>5 из 37</td>\n",
              "      <td>25 мая 2022</td>\n",
              "      <td>15:15 МСК</td>\n",
              "      <td>г. Москва</td>\n",
              "      <td>4</td>\n",
              "      <td>0 ₽</td>\n",
              "      <td>10 000 ₽</td>\n",
              "      <td>000004</td>\n",
              "      <td>https://nationallottery.ru/lottery/digital-5x3...</td>\n",
              "    </tr>\n",
              "    <tr>\n",
              "      <th>0</th>\n",
              "      <td>5 из 37</td>\n",
              "      <td>26 мая 2022</td>\n",
              "      <td>15:15 МСК</td>\n",
              "      <td>г. Москва</td>\n",
              "      <td>6</td>\n",
              "      <td>600 ₽</td>\n",
              "      <td>10 000 ₽</td>\n",
              "      <td>000005</td>\n",
              "      <td>https://nationallottery.ru/lottery/digital-5x3...</td>\n",
              "    </tr>\n",
              "  </tbody>\n",
              "</table>\n",
              "</div>"
            ],
            "text/plain": [
              "   Лотереи Дата тиража: Время тиража: Место проведения:  \\\n",
              "0  5 из 37  16 мая 2022     15:15 МСК         г. Москва   \n",
              "0  5 из 37  23 мая 2022     15:15 МСК         г. Москва   \n",
              "0  5 из 37  24 мая 2022     15:15 МСК         г. Москва   \n",
              "0  5 из 37  25 мая 2022     15:15 МСК         г. Москва   \n",
              "0  5 из 37  26 мая 2022     15:15 МСК         г. Москва   \n",
              "\n",
              "  Число билетов, принявших участие в розыгрыше: Общая сумма выигрышей:  \\\n",
              "0                                             3                  300 ₽   \n",
              "0                                             6                  600 ₽   \n",
              "0                                             3                  300 ₽   \n",
              "0                                             4                    0 ₽   \n",
              "0                                             6                  600 ₽   \n",
              "\n",
              "  Суперприз: Тираж №                                    Ссылка на тираж  \n",
              "0   10 000 ₽  000001  https://nationallottery.ru/lottery/digital-5x3...  \n",
              "0   10 000 ₽  000002  https://nationallottery.ru/lottery/digital-5x3...  \n",
              "0   10 000 ₽  000003  https://nationallottery.ru/lottery/digital-5x3...  \n",
              "0   10 000 ₽  000004  https://nationallottery.ru/lottery/digital-5x3...  \n",
              "0   10 000 ₽  000005  https://nationallottery.ru/lottery/digital-5x3...  "
            ]
          },
          "execution_count": 6,
          "metadata": {},
          "output_type": "execute_result"
        }
      ],
      "source": [
        "df_full.head()"
      ]
    },
    {
      "cell_type": "code",
      "execution_count": null,
      "id": "0938b3bc",
      "metadata": {
        "ExecuteTime": {
          "end_time": "2022-07-17T14:19:53.400033Z",
          "start_time": "2022-07-17T14:19:53.356143Z"
        },
        "id": "0938b3bc",
        "outputId": "dfb3e254-d213-4049-a025-d879357954d8"
      },
      "outputs": [
        {
          "name": "stdout",
          "output_type": "stream",
          "text": [
            "<class 'pandas.core.frame.DataFrame'>\n",
            "Int64Index: 1985 entries, 0 to 0\n",
            "Data columns (total 9 columns):\n",
            " #   Column                                         Non-Null Count  Dtype \n",
            "---  ------                                         --------------  ----- \n",
            " 0   Лотереи                                        1983 non-null   object\n",
            " 1   Дата тиража:                                   1898 non-null   object\n",
            " 2   Время тиража:                                  1898 non-null   object\n",
            " 3   Место проведения:                              1898 non-null   object\n",
            " 4   Число билетов, принявших участие в розыгрыше:  1898 non-null   object\n",
            " 5   Общая сумма выигрышей:                         1898 non-null   object\n",
            " 6   Суперприз:                                     1898 non-null   object\n",
            " 7   Тираж №                                        1985 non-null   object\n",
            " 8   Ссылка на тираж                                1985 non-null   object\n",
            "dtypes: object(9)\n",
            "memory usage: 155.1+ KB\n"
          ]
        }
      ],
      "source": [
        "df_full.info()"
      ]
    },
    {
      "cell_type": "code",
      "execution_count": null,
      "id": "0495b7b0",
      "metadata": {
        "ExecuteTime": {
          "end_time": "2022-07-17T15:38:27.705162Z",
          "start_time": "2022-07-17T15:38:27.697183Z"
        },
        "id": "0495b7b0"
      },
      "outputs": [],
      "source": [
        "# df_full[df_full.isna().any(axis=1)]"
      ]
    },
    {
      "cell_type": "code",
      "execution_count": null,
      "id": "64d60a5b",
      "metadata": {
        "ExecuteTime": {
          "end_time": "2022-07-17T14:19:53.446810Z",
          "start_time": "2022-07-17T14:19:53.403027Z"
        },
        "id": "64d60a5b"
      },
      "outputs": [],
      "source": [
        "df_full_month = df_full['Дата тиража:'].str.split(' ', 2, expand=True)"
      ]
    },
    {
      "cell_type": "code",
      "execution_count": null,
      "id": "c9ed2b20",
      "metadata": {
        "ExecuteTime": {
          "end_time": "2022-07-17T14:19:53.550450Z",
          "start_time": "2022-07-17T14:19:53.449802Z"
        },
        "id": "c9ed2b20"
      },
      "outputs": [],
      "source": [
        "def norm_month(row):\n",
        "    if row[1] == 'января': return f\"{1:02d}\"\n",
        "    elif row[1] == 'февраля': return f\"{2:02d}\"\n",
        "    elif row[1] == 'марта': return f\"{3:02d}\"\n",
        "    elif row[1] == 'апреля': return f\"{4:02d}\"\n",
        "    elif row[1] == 'мая': return f\"{5:02d}\"\n",
        "    elif row[1] == 'июня': return f\"{6:02d}\"\n",
        "    elif row[1] == 'июля': return f\"{7:02d}\"\n",
        "    elif row[1] == 'августа': return f\"{8:02d}\"\n",
        "    elif row[1] == 'сентября': return f\"{9:02d}\"\n",
        "    elif row[1] == 'октября': return 10\n",
        "    elif row[1] == 'ноября': return 11\n",
        "    elif row[1] == 'декабря': return 12\n",
        "    else: 'беда бедой'\n",
        "        \n",
        "df_full_month['month_number'] = df_full_month.apply(norm_month, axis=1)"
      ]
    },
    {
      "cell_type": "code",
      "execution_count": null,
      "id": "17b26cd6",
      "metadata": {
        "ExecuteTime": {
          "end_time": "2022-07-17T14:19:53.607291Z",
          "start_time": "2022-07-17T14:19:53.551496Z"
        },
        "id": "17b26cd6"
      },
      "outputs": [],
      "source": [
        "cols = [2, 'month_number', 0]\n",
        "df_full['combined'] = df_full_month[cols].apply(lambda row: '.'.join(row.values.astype(str)), axis=1)"
      ]
    },
    {
      "cell_type": "code",
      "execution_count": null,
      "id": "3db05860",
      "metadata": {
        "ExecuteTime": {
          "end_time": "2022-07-17T14:23:53.105472Z",
          "start_time": "2022-07-17T14:23:53.084723Z"
        },
        "id": "3db05860"
      },
      "outputs": [],
      "source": [
        "df_full.columns = ['Лотереи', 'Дата тиража', 'Время тиража', 'Место проведения',\n",
        "       'Число билетов, принявших участие в розыгрыше',\n",
        "       'Общая сумма выигрышей', 'Суперприз', 'Тираж №', 'Ссылка на тираж', 'Дата']"
      ]
    },
    {
      "cell_type": "code",
      "execution_count": null,
      "id": "c11e393d",
      "metadata": {
        "ExecuteTime": {
          "end_time": "2022-07-17T14:23:56.463354Z",
          "start_time": "2022-07-17T14:23:56.444695Z"
        },
        "id": "c11e393d",
        "outputId": "0b242fd5-09c0-42c7-f3a5-16d6c0db90d0",
        "scrolled": true
      },
      "outputs": [
        {
          "data": {
            "text/html": [
              "<div>\n",
              "<style scoped>\n",
              "    .dataframe tbody tr th:only-of-type {\n",
              "        vertical-align: middle;\n",
              "    }\n",
              "\n",
              "    .dataframe tbody tr th {\n",
              "        vertical-align: top;\n",
              "    }\n",
              "\n",
              "    .dataframe thead th {\n",
              "        text-align: right;\n",
              "    }\n",
              "</style>\n",
              "<table border=\"1\" class=\"dataframe\">\n",
              "  <thead>\n",
              "    <tr style=\"text-align: right;\">\n",
              "      <th></th>\n",
              "      <th>Лотереи</th>\n",
              "      <th>Дата тиража</th>\n",
              "      <th>Время тиража</th>\n",
              "      <th>Место проведения</th>\n",
              "      <th>Число билетов, принявших участие в розыгрыше</th>\n",
              "      <th>Общая сумма выигрышей</th>\n",
              "      <th>Суперприз</th>\n",
              "      <th>Тираж №</th>\n",
              "      <th>Ссылка на тираж</th>\n",
              "      <th>Дата</th>\n",
              "    </tr>\n",
              "  </thead>\n",
              "  <tbody>\n",
              "    <tr>\n",
              "      <th>0</th>\n",
              "      <td>5 из 37</td>\n",
              "      <td>16 мая 2022</td>\n",
              "      <td>15:15 МСК</td>\n",
              "      <td>г. Москва</td>\n",
              "      <td>3</td>\n",
              "      <td>300 ₽</td>\n",
              "      <td>10 000 ₽</td>\n",
              "      <td>000001</td>\n",
              "      <td>https://nationallottery.ru/lottery/digital-5x3...</td>\n",
              "      <td>2022.05.16</td>\n",
              "    </tr>\n",
              "    <tr>\n",
              "      <th>0</th>\n",
              "      <td>5 из 37</td>\n",
              "      <td>23 мая 2022</td>\n",
              "      <td>15:15 МСК</td>\n",
              "      <td>г. Москва</td>\n",
              "      <td>6</td>\n",
              "      <td>600 ₽</td>\n",
              "      <td>10 000 ₽</td>\n",
              "      <td>000002</td>\n",
              "      <td>https://nationallottery.ru/lottery/digital-5x3...</td>\n",
              "      <td>2022.05.23</td>\n",
              "    </tr>\n",
              "    <tr>\n",
              "      <th>0</th>\n",
              "      <td>5 из 37</td>\n",
              "      <td>24 мая 2022</td>\n",
              "      <td>15:15 МСК</td>\n",
              "      <td>г. Москва</td>\n",
              "      <td>3</td>\n",
              "      <td>300 ₽</td>\n",
              "      <td>10 000 ₽</td>\n",
              "      <td>000003</td>\n",
              "      <td>https://nationallottery.ru/lottery/digital-5x3...</td>\n",
              "      <td>2022.05.24</td>\n",
              "    </tr>\n",
              "    <tr>\n",
              "      <th>0</th>\n",
              "      <td>5 из 37</td>\n",
              "      <td>25 мая 2022</td>\n",
              "      <td>15:15 МСК</td>\n",
              "      <td>г. Москва</td>\n",
              "      <td>4</td>\n",
              "      <td>0 ₽</td>\n",
              "      <td>10 000 ₽</td>\n",
              "      <td>000004</td>\n",
              "      <td>https://nationallottery.ru/lottery/digital-5x3...</td>\n",
              "      <td>2022.05.25</td>\n",
              "    </tr>\n",
              "    <tr>\n",
              "      <th>0</th>\n",
              "      <td>5 из 37</td>\n",
              "      <td>26 мая 2022</td>\n",
              "      <td>15:15 МСК</td>\n",
              "      <td>г. Москва</td>\n",
              "      <td>6</td>\n",
              "      <td>600 ₽</td>\n",
              "      <td>10 000 ₽</td>\n",
              "      <td>000005</td>\n",
              "      <td>https://nationallottery.ru/lottery/digital-5x3...</td>\n",
              "      <td>2022.05.26</td>\n",
              "    </tr>\n",
              "  </tbody>\n",
              "</table>\n",
              "</div>"
            ],
            "text/plain": [
              "   Лотереи  Дата тиража Время тиража Место проведения  \\\n",
              "0  5 из 37  16 мая 2022    15:15 МСК        г. Москва   \n",
              "0  5 из 37  23 мая 2022    15:15 МСК        г. Москва   \n",
              "0  5 из 37  24 мая 2022    15:15 МСК        г. Москва   \n",
              "0  5 из 37  25 мая 2022    15:15 МСК        г. Москва   \n",
              "0  5 из 37  26 мая 2022    15:15 МСК        г. Москва   \n",
              "\n",
              "  Число билетов, принявших участие в розыгрыше Общая сумма выигрышей  \\\n",
              "0                                            3                 300 ₽   \n",
              "0                                            6                 600 ₽   \n",
              "0                                            3                 300 ₽   \n",
              "0                                            4                   0 ₽   \n",
              "0                                            6                 600 ₽   \n",
              "\n",
              "  Суперприз Тираж №                                    Ссылка на тираж  \\\n",
              "0  10 000 ₽  000001  https://nationallottery.ru/lottery/digital-5x3...   \n",
              "0  10 000 ₽  000002  https://nationallottery.ru/lottery/digital-5x3...   \n",
              "0  10 000 ₽  000003  https://nationallottery.ru/lottery/digital-5x3...   \n",
              "0  10 000 ₽  000004  https://nationallottery.ru/lottery/digital-5x3...   \n",
              "0  10 000 ₽  000005  https://nationallottery.ru/lottery/digital-5x3...   \n",
              "\n",
              "         Дата  \n",
              "0  2022.05.16  \n",
              "0  2022.05.23  \n",
              "0  2022.05.24  \n",
              "0  2022.05.25  \n",
              "0  2022.05.26  "
            ]
          },
          "execution_count": 15,
          "metadata": {},
          "output_type": "execute_result"
        }
      ],
      "source": [
        "df_full.head()"
      ]
    },
    {
      "cell_type": "code",
      "execution_count": null,
      "id": "d56f9c44",
      "metadata": {
        "ExecuteTime": {
          "end_time": "2022-07-17T15:37:51.940354Z",
          "start_time": "2022-07-17T15:37:51.932375Z"
        },
        "id": "d56f9c44"
      },
      "outputs": [],
      "source": [
        "# pd.to_datetime(df_full['combined'], format='%Y.%m.%d')"
      ]
    },
    {
      "cell_type": "code",
      "execution_count": null,
      "id": "7343cf92",
      "metadata": {
        "ExecuteTime": {
          "end_time": "2022-07-17T14:24:05.667122Z",
          "start_time": "2022-07-17T14:24:04.524608Z"
        },
        "id": "7343cf92"
      },
      "outputs": [],
      "source": [
        "df_full.to_excel('df_full.xlsx', engine='xlsxwriter', sheet_name='nationallottery', index=False)  "
      ]
    },
    {
      "cell_type": "markdown",
      "id": "d84b7050",
      "metadata": {
        "id": "d84b7050"
      },
      "source": [
        "### In function all with 18.07.2022"
      ]
    },
    {
      "cell_type": "code",
      "execution_count": null,
      "id": "a05ba59e",
      "metadata": {
        "ExecuteTime": {
          "end_time": "2022-07-18T07:49:30.269170Z",
          "start_time": "2022-07-18T07:45:41.188374Z"
        },
        "id": "a05ba59e"
      },
      "outputs": [],
      "source": [
        "df_5_37 = pars_nationallottery('https://nationallottery.ru/lottery/digital-5x37/history/104011', 56, 60)\n",
        "df_5_36_speed = pars_nationallottery('https://nationallottery.ru/lottery/digital-5x36/history/101031', 166, 170)\n",
        "df_5_50= pars_nationallottery('https://nationallottery.ru/lottery/digital-5x50/history/101011', 58, 65)\n",
        "df_super_8 = pars_nationallottery('https://nationallottery.ru/lottery/digital-8x20/history/101051', 814, 825)\n",
        "df_3_3 = pars_nationallottery('https://nationallottery.ru/lottery/bingo-3x3/history/102091', 754, 765)\n",
        "df_bingo_75 = pars_nationallottery('https://nationallottery.ru/lottery/bingo-75/history/102051', 137, 140)"
      ]
    },
    {
      "cell_type": "code",
      "execution_count": null,
      "id": "7014d671",
      "metadata": {
        "ExecuteTime": {
          "end_time": "2022-07-18T07:49:30.299189Z",
          "start_time": "2022-07-18T07:49:30.269170Z"
        },
        "id": "7014d671"
      },
      "outputs": [],
      "source": [
        "df_full = pd.concat([df_5_37, df_5_36_speed, df_super_8, df_3_3, df_bingo_75])"
      ]
    },
    {
      "cell_type": "code",
      "execution_count": null,
      "id": "383063f3",
      "metadata": {
        "ExecuteTime": {
          "end_time": "2022-07-18T07:49:30.328935Z",
          "start_time": "2022-07-18T07:49:30.299189Z"
        },
        "id": "383063f3",
        "outputId": "8c388b73-ac61-4ba7-e4c4-ba31cf7e400d"
      },
      "outputs": [
        {
          "data": {
            "text/html": [
              "<div>\n",
              "<style scoped>\n",
              "    .dataframe tbody tr th:only-of-type {\n",
              "        vertical-align: middle;\n",
              "    }\n",
              "\n",
              "    .dataframe tbody tr th {\n",
              "        vertical-align: top;\n",
              "    }\n",
              "\n",
              "    .dataframe thead th {\n",
              "        text-align: right;\n",
              "    }\n",
              "</style>\n",
              "<table border=\"1\" class=\"dataframe\">\n",
              "  <thead>\n",
              "    <tr style=\"text-align: right;\">\n",
              "      <th></th>\n",
              "      <th>Лотереи</th>\n",
              "      <th>Дата тиража:</th>\n",
              "      <th>Время тиража:</th>\n",
              "      <th>Место проведения:</th>\n",
              "      <th>Число билетов, принявших участие в розыгрыше:</th>\n",
              "      <th>Общая сумма выигрышей:</th>\n",
              "      <th>Суперприз:</th>\n",
              "      <th>Тираж №</th>\n",
              "      <th>Ссылка на тираж</th>\n",
              "    </tr>\n",
              "  </thead>\n",
              "  <tbody>\n",
              "    <tr>\n",
              "      <th>0</th>\n",
              "      <td>5 из 37</td>\n",
              "      <td>16 июля 2022</td>\n",
              "      <td>15:15 МСК</td>\n",
              "      <td>г. Москва</td>\n",
              "      <td>96</td>\n",
              "      <td>3 850 ₽</td>\n",
              "      <td>2 000 000 ₽</td>\n",
              "      <td>000056</td>\n",
              "      <td>https://nationallottery.ru/lottery/digital-5x37/history/104011/000056</td>\n",
              "    </tr>\n",
              "    <tr>\n",
              "      <th>0</th>\n",
              "      <td>5 из 37</td>\n",
              "      <td>17 июля 2022</td>\n",
              "      <td>15:15 МСК</td>\n",
              "      <td>г. Москва</td>\n",
              "      <td>115</td>\n",
              "      <td>82 500 ₽</td>\n",
              "      <td>2 000 000 ₽</td>\n",
              "      <td>000057</td>\n",
              "      <td>https://nationallottery.ru/lottery/digital-5x37/history/104011/000057</td>\n",
              "    </tr>\n",
              "    <tr>\n",
              "      <th>0</th>\n",
              "      <td>5 из 37</td>\n",
              "      <td>NaN</td>\n",
              "      <td>NaN</td>\n",
              "      <td>NaN</td>\n",
              "      <td>NaN</td>\n",
              "      <td>NaN</td>\n",
              "      <td>NaN</td>\n",
              "      <td>000058</td>\n",
              "      <td>https://nationallottery.ru/lottery/digital-5x37/history/104011/000058</td>\n",
              "    </tr>\n",
              "    <tr>\n",
              "      <th>0</th>\n",
              "      <td>5 из 37</td>\n",
              "      <td>NaN</td>\n",
              "      <td>NaN</td>\n",
              "      <td>NaN</td>\n",
              "      <td>NaN</td>\n",
              "      <td>NaN</td>\n",
              "      <td>NaN</td>\n",
              "      <td>000059</td>\n",
              "      <td>https://nationallottery.ru/lottery/digital-5x37/history/104011/000059</td>\n",
              "    </tr>\n",
              "    <tr>\n",
              "      <th>0</th>\n",
              "      <td>Пятая скорость</td>\n",
              "      <td>16 июля 2022</td>\n",
              "      <td>14:00 МСК</td>\n",
              "      <td>г. Москва</td>\n",
              "      <td>131</td>\n",
              "      <td>2 700 ₽</td>\n",
              "      <td>1 000 000 ₽</td>\n",
              "      <td>000166</td>\n",
              "      <td>https://nationallottery.ru/lottery/digital-5x36/history/101031/000166</td>\n",
              "    </tr>\n",
              "  </tbody>\n",
              "</table>\n",
              "</div>"
            ],
            "text/plain": [
              "          Лотереи  Дата тиража: Время тиража: Место проведения:  \\\n",
              "0         5 из 37  16 июля 2022     15:15 МСК         г. Москва   \n",
              "0         5 из 37  17 июля 2022     15:15 МСК         г. Москва   \n",
              "0         5 из 37           NaN           NaN               NaN   \n",
              "0         5 из 37           NaN           NaN               NaN   \n",
              "0  Пятая скорость  16 июля 2022     14:00 МСК         г. Москва   \n",
              "\n",
              "  Число билетов, принявших участие в розыгрыше: Общая сумма выигрышей:  \\\n",
              "0                                            96                3 850 ₽   \n",
              "0                                           115               82 500 ₽   \n",
              "0                                           NaN                    NaN   \n",
              "0                                           NaN                    NaN   \n",
              "0                                           131                2 700 ₽   \n",
              "\n",
              "    Суперприз: Тираж №  \\\n",
              "0  2 000 000 ₽  000056   \n",
              "0  2 000 000 ₽  000057   \n",
              "0          NaN  000058   \n",
              "0          NaN  000059   \n",
              "0  1 000 000 ₽  000166   \n",
              "\n",
              "                                                         Ссылка на тираж  \n",
              "0  https://nationallottery.ru/lottery/digital-5x37/history/104011/000056  \n",
              "0  https://nationallottery.ru/lottery/digital-5x37/history/104011/000057  \n",
              "0  https://nationallottery.ru/lottery/digital-5x37/history/104011/000058  \n",
              "0  https://nationallottery.ru/lottery/digital-5x37/history/104011/000059  \n",
              "0  https://nationallottery.ru/lottery/digital-5x36/history/101031/000166  "
            ]
          },
          "execution_count": 325,
          "metadata": {},
          "output_type": "execute_result"
        }
      ],
      "source": [
        "df_full.head()"
      ]
    },
    {
      "cell_type": "code",
      "execution_count": null,
      "id": "0721bb65",
      "metadata": {
        "ExecuteTime": {
          "end_time": "2022-07-17T16:11:17.972270Z",
          "start_time": "2022-07-17T16:11:17.958470Z"
        },
        "id": "0721bb65"
      },
      "outputs": [],
      "source": [
        "df_full = df_full.dropna()"
      ]
    },
    {
      "cell_type": "code",
      "execution_count": null,
      "id": "b47c9080",
      "metadata": {
        "ExecuteTime": {
          "end_time": "2022-07-17T16:11:18.706748Z",
          "start_time": "2022-07-17T16:11:18.685781Z"
        },
        "id": "b47c9080",
        "outputId": "cd473541-4d78-4674-dee9-6ee987028f89"
      },
      "outputs": [
        {
          "name": "stdout",
          "output_type": "stream",
          "text": [
            "<class 'pandas.core.frame.DataFrame'>\n",
            "Int64Index: 20 entries, 0 to 0\n",
            "Data columns (total 10 columns):\n",
            " #   Column                                        Non-Null Count  Dtype \n",
            "---  ------                                        --------------  ----- \n",
            " 0   Лотереи                                       20 non-null     object\n",
            " 1   Дата тиража                                   20 non-null     object\n",
            " 2   Время тиража                                  20 non-null     object\n",
            " 3   Место проведения                              20 non-null     object\n",
            " 4   Число билетов, принявших участие в розыгрыше  20 non-null     object\n",
            " 5   Общая сумма выигрышей                         20 non-null     object\n",
            " 6   Суперприз                                     20 non-null     object\n",
            " 7   Тираж №                                       20 non-null     object\n",
            " 8   Ссылка на тираж                               20 non-null     object\n",
            " 9   Дата                                          20 non-null     object\n",
            "dtypes: object(10)\n",
            "memory usage: 1.7+ KB\n"
          ]
        }
      ],
      "source": [
        "df_full.info()"
      ]
    },
    {
      "cell_type": "code",
      "execution_count": null,
      "id": "8d0db5c5",
      "metadata": {
        "ExecuteTime": {
          "end_time": "2022-07-18T07:49:30.344736Z",
          "start_time": "2022-07-18T07:49:30.331772Z"
        },
        "id": "8d0db5c5"
      },
      "outputs": [],
      "source": [
        "df_full_month = df_full['Дата тиража:'].str.split(' ', 2, expand=True)"
      ]
    },
    {
      "cell_type": "code",
      "execution_count": null,
      "id": "ff68c201",
      "metadata": {
        "ExecuteTime": {
          "end_time": "2022-07-18T07:49:30.359696Z",
          "start_time": "2022-07-18T07:49:30.346732Z"
        },
        "id": "ff68c201"
      },
      "outputs": [],
      "source": [
        "def norm_month(row):\n",
        "    if row[1] == 'января': return f\"{1:02d}\"\n",
        "    elif row[1] == 'февраля': return f\"{2:02d}\"\n",
        "    elif row[1] == 'марта': return f\"{3:02d}\"\n",
        "    elif row[1] == 'апреля': return f\"{4:02d}\"\n",
        "    elif row[1] == 'мая': return f\"{5:02d}\"\n",
        "    elif row[1] == 'июня': return f\"{6:02d}\"\n",
        "    elif row[1] == 'июля': return f\"{7:02d}\"\n",
        "    elif row[1] == 'августа': return f\"{8:02d}\"\n",
        "    elif row[1] == 'сентября': return f\"{9:02d}\"\n",
        "    elif row[1] == 'октября': return 10\n",
        "    elif row[1] == 'ноября': return 11\n",
        "    elif row[1] == 'декабря': return 12\n",
        "    else: 'беда бедой'\n",
        "        \n",
        "df_full_month['month_number'] = df_full_month.apply(norm_month, axis=1)"
      ]
    },
    {
      "cell_type": "code",
      "execution_count": null,
      "id": "3c2f74fb",
      "metadata": {
        "ExecuteTime": {
          "end_time": "2022-07-18T07:49:30.374656Z",
          "start_time": "2022-07-18T07:49:30.362690Z"
        },
        "id": "3c2f74fb"
      },
      "outputs": [],
      "source": [
        "cols = [2, 'month_number', 0]\n",
        "df_full['combined'] = df_full_month[cols].apply(lambda row: '.'.join(row.values.astype(str)), axis=1)"
      ]
    },
    {
      "cell_type": "code",
      "execution_count": null,
      "id": "2f255437",
      "metadata": {
        "ExecuteTime": {
          "end_time": "2022-07-18T07:49:30.390613Z",
          "start_time": "2022-07-18T07:49:30.377650Z"
        },
        "id": "2f255437"
      },
      "outputs": [],
      "source": [
        "df_full.columns = ['Лотереи', 'Дата тиража', 'Время тиража', 'Место проведения',\n",
        "       'Число билетов, принявших участие в розыгрыше',\n",
        "       'Общая сумма выигрышей', 'Суперприз', 'Тираж №', 'Ссылка на тираж', 'Дата']"
      ]
    },
    {
      "cell_type": "code",
      "execution_count": null,
      "id": "2ba75bfd",
      "metadata": {
        "ExecuteTime": {
          "end_time": "2022-07-18T07:49:30.422013Z",
          "start_time": "2022-07-18T07:49:30.392190Z"
        },
        "id": "2ba75bfd",
        "outputId": "b04fcccc-6084-4967-dcb5-1aaa22e6b632",
        "scrolled": true
      },
      "outputs": [
        {
          "data": {
            "text/html": [
              "<div>\n",
              "<style scoped>\n",
              "    .dataframe tbody tr th:only-of-type {\n",
              "        vertical-align: middle;\n",
              "    }\n",
              "\n",
              "    .dataframe tbody tr th {\n",
              "        vertical-align: top;\n",
              "    }\n",
              "\n",
              "    .dataframe thead th {\n",
              "        text-align: right;\n",
              "    }\n",
              "</style>\n",
              "<table border=\"1\" class=\"dataframe\">\n",
              "  <thead>\n",
              "    <tr style=\"text-align: right;\">\n",
              "      <th></th>\n",
              "      <th>Лотереи</th>\n",
              "      <th>Дата тиража</th>\n",
              "      <th>Время тиража</th>\n",
              "      <th>Место проведения</th>\n",
              "      <th>Число билетов, принявших участие в розыгрыше</th>\n",
              "      <th>Общая сумма выигрышей</th>\n",
              "      <th>Суперприз</th>\n",
              "      <th>Тираж №</th>\n",
              "      <th>Ссылка на тираж</th>\n",
              "      <th>Дата</th>\n",
              "    </tr>\n",
              "  </thead>\n",
              "  <tbody>\n",
              "    <tr>\n",
              "      <th>0</th>\n",
              "      <td>5 из 37</td>\n",
              "      <td>16 июля 2022</td>\n",
              "      <td>15:15 МСК</td>\n",
              "      <td>г. Москва</td>\n",
              "      <td>96</td>\n",
              "      <td>3 850 ₽</td>\n",
              "      <td>2 000 000 ₽</td>\n",
              "      <td>000056</td>\n",
              "      <td>https://nationallottery.ru/lottery/digital-5x37/history/104011/000056</td>\n",
              "      <td>2022.07.16</td>\n",
              "    </tr>\n",
              "    <tr>\n",
              "      <th>0</th>\n",
              "      <td>5 из 37</td>\n",
              "      <td>17 июля 2022</td>\n",
              "      <td>15:15 МСК</td>\n",
              "      <td>г. Москва</td>\n",
              "      <td>115</td>\n",
              "      <td>82 500 ₽</td>\n",
              "      <td>2 000 000 ₽</td>\n",
              "      <td>000057</td>\n",
              "      <td>https://nationallottery.ru/lottery/digital-5x37/history/104011/000057</td>\n",
              "      <td>2022.07.17</td>\n",
              "    </tr>\n",
              "    <tr>\n",
              "      <th>0</th>\n",
              "      <td>5 из 37</td>\n",
              "      <td>NaN</td>\n",
              "      <td>NaN</td>\n",
              "      <td>NaN</td>\n",
              "      <td>NaN</td>\n",
              "      <td>NaN</td>\n",
              "      <td>NaN</td>\n",
              "      <td>000058</td>\n",
              "      <td>https://nationallottery.ru/lottery/digital-5x37/history/104011/000058</td>\n",
              "      <td>nan.None.nan</td>\n",
              "    </tr>\n",
              "    <tr>\n",
              "      <th>0</th>\n",
              "      <td>5 из 37</td>\n",
              "      <td>NaN</td>\n",
              "      <td>NaN</td>\n",
              "      <td>NaN</td>\n",
              "      <td>NaN</td>\n",
              "      <td>NaN</td>\n",
              "      <td>NaN</td>\n",
              "      <td>000059</td>\n",
              "      <td>https://nationallottery.ru/lottery/digital-5x37/history/104011/000059</td>\n",
              "      <td>nan.None.nan</td>\n",
              "    </tr>\n",
              "    <tr>\n",
              "      <th>0</th>\n",
              "      <td>Пятая скорость</td>\n",
              "      <td>16 июля 2022</td>\n",
              "      <td>14:00 МСК</td>\n",
              "      <td>г. Москва</td>\n",
              "      <td>131</td>\n",
              "      <td>2 700 ₽</td>\n",
              "      <td>1 000 000 ₽</td>\n",
              "      <td>000166</td>\n",
              "      <td>https://nationallottery.ru/lottery/digital-5x36/history/101031/000166</td>\n",
              "      <td>2022.07.16</td>\n",
              "    </tr>\n",
              "  </tbody>\n",
              "</table>\n",
              "</div>"
            ],
            "text/plain": [
              "          Лотереи   Дата тиража Время тиража Место проведения  \\\n",
              "0         5 из 37  16 июля 2022    15:15 МСК        г. Москва   \n",
              "0         5 из 37  17 июля 2022    15:15 МСК        г. Москва   \n",
              "0         5 из 37           NaN          NaN              NaN   \n",
              "0         5 из 37           NaN          NaN              NaN   \n",
              "0  Пятая скорость  16 июля 2022    14:00 МСК        г. Москва   \n",
              "\n",
              "  Число билетов, принявших участие в розыгрыше Общая сумма выигрышей  \\\n",
              "0                                           96               3 850 ₽   \n",
              "0                                          115              82 500 ₽   \n",
              "0                                          NaN                   NaN   \n",
              "0                                          NaN                   NaN   \n",
              "0                                          131               2 700 ₽   \n",
              "\n",
              "     Суперприз Тираж №  \\\n",
              "0  2 000 000 ₽  000056   \n",
              "0  2 000 000 ₽  000057   \n",
              "0          NaN  000058   \n",
              "0          NaN  000059   \n",
              "0  1 000 000 ₽  000166   \n",
              "\n",
              "                                                         Ссылка на тираж  \\\n",
              "0  https://nationallottery.ru/lottery/digital-5x37/history/104011/000056   \n",
              "0  https://nationallottery.ru/lottery/digital-5x37/history/104011/000057   \n",
              "0  https://nationallottery.ru/lottery/digital-5x37/history/104011/000058   \n",
              "0  https://nationallottery.ru/lottery/digital-5x37/history/104011/000059   \n",
              "0  https://nationallottery.ru/lottery/digital-5x36/history/101031/000166   \n",
              "\n",
              "           Дата  \n",
              "0    2022.07.16  \n",
              "0    2022.07.17  \n",
              "0  nan.None.nan  \n",
              "0  nan.None.nan  \n",
              "0    2022.07.16  "
            ]
          },
          "execution_count": 330,
          "metadata": {},
          "output_type": "execute_result"
        }
      ],
      "source": [
        "df_full.head()"
      ]
    },
    {
      "cell_type": "code",
      "execution_count": null,
      "id": "399fcbf0",
      "metadata": {
        "ExecuteTime": {
          "end_time": "2022-07-18T07:49:30.536563Z",
          "start_time": "2022-07-18T07:49:30.424008Z"
        },
        "id": "399fcbf0"
      },
      "outputs": [],
      "source": [
        "df_full.to_excel('df_full_18.07.xlsx', engine='xlsxwriter', sheet_name='nationallottery', index=False)  "
      ]
    },
    {
      "cell_type": "code",
      "execution_count": null,
      "id": "4b10e349",
      "metadata": {
        "id": "4b10e349"
      },
      "outputs": [],
      "source": []
    },
    {
      "cell_type": "markdown",
      "id": "dc268205",
      "metadata": {
        "id": "dc268205"
      },
      "source": [
        "### Parse super 8"
      ]
    },
    {
      "cell_type": "code",
      "execution_count": null,
      "id": "8393aa6a",
      "metadata": {
        "ExecuteTime": {
          "end_time": "2022-07-16T18:30:11.882686Z",
          "start_time": "2022-07-16T18:30:11.864505Z"
        },
        "id": "8393aa6a"
      },
      "outputs": [],
      "source": [
        "def pars_nationallottery(site):\n",
        "    try:\n",
        "        for j in range(1, 3):\n",
        "            driver = Chrome(executable_path=f\"\\\\chromedriver.exe\")\n",
        "            driver.get(f\"{site}/{j:06d}\")\n",
        "            soup = BeautifulSoup(driver.page_source, \"lxml\")\n",
        "            driver.quit()\n",
        "\n",
        "            title_class = soup.find_all(class_=re.compile('Title'))\n",
        "            text_wrapper_class = soup.find_all(class_=re.compile('TextWrapper'))\n",
        "        df = pd.DataFrame(good_list_text)\n",
        "        \n",
        "    except:\n",
        "        return df\n",
        "    \n",
        "    return df"
      ]
    },
    {
      "cell_type": "code",
      "execution_count": null,
      "id": "576e4861",
      "metadata": {
        "id": "576e4861"
      },
      "outputs": [],
      "source": [
        "df_super_8 = pars_nationallottery('https://nationallottery.ru/lottery/digital-8x20/history/101051', 1, 815)"
      ]
    },
    {
      "cell_type": "code",
      "execution_count": null,
      "id": "6ac16ac0",
      "metadata": {
        "ExecuteTime": {
          "end_time": "2022-07-18T13:36:11.795341Z",
          "start_time": "2022-07-18T13:36:05.486001Z"
        },
        "id": "6ac16ac0"
      },
      "outputs": [],
      "source": [
        "driver = Chrome(executable_path=f\"_win32\\\\chromedriver.exe\")\n",
        "driver.get(f\"https:/ottery/digital-8x20/history/101051/000002\")\n",
        "soup = BeautifulSoup(driver.page_source, \"lxml\")\n",
        "driver.quit()"
      ]
    },
    {
      "cell_type": "code",
      "execution_count": null,
      "id": "58fdc8e6",
      "metadata": {
        "ExecuteTime": {
          "end_time": "2022-07-18T13:36:25.216167Z",
          "start_time": "2022-07-18T13:36:25.191145Z"
        },
        "id": "58fdc8e6",
        "outputId": "70fe40da-6674-4765-f546-04480de4a4c5"
      },
      "outputs": [],
      "source": [
        "text_wrapper_class = soup.find_all(class_=re.compile('TextWrapper'))\n",
        "text_wrapper_class"
      ]
    },
    {
      "cell_type": "markdown",
      "id": "7d6a0861",
      "metadata": {
        "id": "7d6a0861"
      },
      "source": [
        "# Parser Stoloto"
      ]
    },
    {
      "cell_type": "code",
      "execution_count": null,
      "id": "25319e77",
      "metadata": {
        "ExecuteTime": {
          "end_time": "2022-07-16T17:56:03.774433Z",
          "start_time": "2022-07-16T17:56:03.755462Z"
        },
        "id": "25319e77",
        "outputId": "db0b0499-f41b-46f2-fc23-289152d39694",
        "scrolled": false
      },
      "outputs": [
        {
          "data": {
            "text/html": [
              "<div>\n",
              "<style scoped>\n",
              "    .dataframe tbody tr th:only-of-type {\n",
              "        vertical-align: middle;\n",
              "    }\n",
              "\n",
              "    .dataframe tbody tr th {\n",
              "        vertical-align: top;\n",
              "    }\n",
              "\n",
              "    .dataframe thead th {\n",
              "        text-align: right;\n",
              "    }\n",
              "</style>\n",
              "<table border=\"1\" class=\"dataframe\">\n",
              "  <thead>\n",
              "    <tr style=\"text-align: right;\">\n",
              "      <th></th>\n",
              "      <th>Лотереи</th>\n",
              "      <th>Дата тиража:</th>\n",
              "      <th>Время тиража:</th>\n",
              "      <th>Место проведения:</th>\n",
              "      <th>Число билетов, принявших участие в розыгрыше:</th>\n",
              "      <th>Общая сумма выигрышей:</th>\n",
              "      <th>Суперприз:</th>\n",
              "      <th>Тираж №</th>\n",
              "    </tr>\n",
              "  </thead>\n",
              "  <tbody>\n",
              "    <tr>\n",
              "      <th>0</th>\n",
              "      <td></td>\n",
              "      <td>16 мая 2022</td>\n",
              "      <td>15:15 МСК</td>\n",
              "      <td>г. Москва</td>\n",
              "      <td>3</td>\n",
              "      <td>300 ₽</td>\n",
              "      <td>10 000 ₽</td>\n",
              "      <td>000001</td>\n",
              "    </tr>\n",
              "    <tr>\n",
              "      <th>0</th>\n",
              "      <td>5 из 37</td>\n",
              "      <td>23 мая 2022</td>\n",
              "      <td>15:15 МСК</td>\n",
              "      <td>г. Москва</td>\n",
              "      <td>6</td>\n",
              "      <td>600 ₽</td>\n",
              "      <td>10 000 ₽</td>\n",
              "      <td>000002</td>\n",
              "    </tr>\n",
              "    <tr>\n",
              "      <th>0</th>\n",
              "      <td>5 из 37</td>\n",
              "      <td>24 мая 2022</td>\n",
              "      <td>15:15 МСК</td>\n",
              "      <td>г. Москва</td>\n",
              "      <td>3</td>\n",
              "      <td>300 ₽</td>\n",
              "      <td>10 000 ₽</td>\n",
              "      <td>000003</td>\n",
              "    </tr>\n",
              "    <tr>\n",
              "      <th>0</th>\n",
              "      <td>5 из 37</td>\n",
              "      <td>25 мая 2022</td>\n",
              "      <td>15:15 МСК</td>\n",
              "      <td>г. Москва</td>\n",
              "      <td>4</td>\n",
              "      <td>0 ₽</td>\n",
              "      <td>10 000 ₽</td>\n",
              "      <td>000004</td>\n",
              "    </tr>\n",
              "    <tr>\n",
              "      <th>0</th>\n",
              "      <td>5 из 37</td>\n",
              "      <td>26 мая 2022</td>\n",
              "      <td>15:15 МСК</td>\n",
              "      <td>г. Москва</td>\n",
              "      <td>6</td>\n",
              "      <td>600 ₽</td>\n",
              "      <td>10 000 ₽</td>\n",
              "      <td>000005</td>\n",
              "    </tr>\n",
              "  </tbody>\n",
              "</table>\n",
              "</div>"
            ],
            "text/plain": [
              "   Лотереи Дата тиража: Время тиража: Место проведения:  \\\n",
              "0           16 мая 2022     15:15 МСК         г. Москва   \n",
              "0  5 из 37  23 мая 2022     15:15 МСК         г. Москва   \n",
              "0  5 из 37  24 мая 2022     15:15 МСК         г. Москва   \n",
              "0  5 из 37  25 мая 2022     15:15 МСК         г. Москва   \n",
              "0  5 из 37  26 мая 2022     15:15 МСК         г. Москва   \n",
              "\n",
              "  Число билетов, принявших участие в розыгрыше: Общая сумма выигрышей:  \\\n",
              "0                                             3                  300 ₽   \n",
              "0                                             6                  600 ₽   \n",
              "0                                             3                  300 ₽   \n",
              "0                                             4                    0 ₽   \n",
              "0                                             6                  600 ₽   \n",
              "\n",
              "  Суперприз: Тираж №  \n",
              "0   10 000 ₽  000001  \n",
              "0   10 000 ₽  000002  \n",
              "0   10 000 ₽  000003  \n",
              "0   10 000 ₽  000004  \n",
              "0   10 000 ₽  000005  "
            ]
          },
          "execution_count": 498,
          "metadata": {},
          "output_type": "execute_result"
        }
      ],
      "source": [
        "df_full.head()"
      ]
    },
    {
      "cell_type": "code",
      "execution_count": null,
      "id": "04417709",
      "metadata": {
        "ExecuteTime": {
          "end_time": "2022-07-17T17:14:48.791467Z",
          "start_time": "2022-07-17T17:14:48.766621Z"
        },
        "id": "04417709"
      },
      "outputs": [],
      "source": [
        "def get_page_soup(url: str):\n",
        "    r = requests.get(url)\n",
        "    r.encoding='utf-8'\n",
        "    if not r.ok:\n",
        "        return None\n",
        "    soup = BeautifulSoup(r.text, \"lxml\")\n",
        "    return soup"
      ]
    },
    {
      "cell_type": "code",
      "execution_count": null,
      "id": "d4ef6ae1",
      "metadata": {
        "ExecuteTime": {
          "end_time": "2022-07-17T17:14:52.714304Z",
          "start_time": "2022-07-17T17:14:52.074470Z"
        },
        "id": "d4ef6ae1"
      },
      "outputs": [],
      "source": [
        "soup = get_page_soup(\"https://www.stoloto.ru/rapido/archive?from=17.07.2022&to=17.07.2022&firstDraw=250651&lastDraw=250700&mode=draw\")"
      ]
    },
    {
      "cell_type": "code",
      "execution_count": null,
      "id": "645c85e5",
      "metadata": {
        "ExecuteTime": {
          "end_time": "2022-07-17T17:14:52.789916Z",
          "start_time": "2022-07-17T17:14:52.716299Z"
        },
        "collapsed": true,
        "id": "645c85e5",
        "outputId": "34b11424-5f04-4226-d99d-062f308ca43d"
      },
      "outputs": [],
      "source": [
        "print(soup.prettify())"
      ]
    },
    {
      "cell_type": "code",
      "execution_count": null,
      "id": "72da8004",
      "metadata": {
        "ExecuteTime": {
          "end_time": "2022-07-17T17:48:51.654437Z",
          "start_time": "2022-07-17T17:48:51.632495Z"
        },
        "id": "72da8004",
        "outputId": "a76cb42b-68ef-4f3d-a2ca-8a8b02a98c4c"
      },
      "outputs": [
        {
          "data": {
            "text/plain": [
              "'\\n250700\\n'"
            ]
          },
          "execution_count": 171,
          "metadata": {},
          "output_type": "execute_result"
        }
      ],
      "source": [
        "soup.find_all(\"div\", class_=\"draw\")[1].text"
      ]
    },
    {
      "cell_type": "markdown",
      "id": "ca6b6ab3",
      "metadata": {
        "id": "ca6b6ab3"
      },
      "source": [
        "________"
      ]
    },
    {
      "cell_type": "code",
      "execution_count": null,
      "id": "d611e230",
      "metadata": {
        "ExecuteTime": {
          "end_time": "2022-07-17T17:48:58.060186Z",
          "start_time": "2022-07-17T17:48:58.017755Z"
        },
        "id": "d611e230",
        "outputId": "81d8a7b9-35e2-4e6b-d631-38f861610f3b"
      },
      "outputs": [
        {
          "data": {
            "text/plain": [
              "'17.07.2022 17:07:30'"
            ]
          },
          "execution_count": 172,
          "metadata": {},
          "output_type": "execute_result"
        }
      ],
      "source": [
        "soup.select(\"div.draw_date\")[1].text"
      ]
    },
    {
      "cell_type": "code",
      "execution_count": null,
      "id": "564cd9e4",
      "metadata": {
        "ExecuteTime": {
          "end_time": "2022-07-17T17:25:43.506887Z",
          "start_time": "2022-07-17T17:25:43.480181Z"
        },
        "id": "564cd9e4",
        "outputId": "570ab22b-ad6d-4b85-9943-1553ea126fc6"
      },
      "outputs": [
        {
          "data": {
            "text/plain": [
              "'\\n250700\\n'"
            ]
          },
          "execution_count": 82,
          "metadata": {},
          "output_type": "execute_result"
        }
      ],
      "source": [
        "soup.select(\"div.draw\")[1].text"
      ]
    },
    {
      "cell_type": "code",
      "execution_count": null,
      "id": "097de44f",
      "metadata": {
        "ExecuteTime": {
          "end_time": "2022-07-17T17:49:10.789406Z",
          "start_time": "2022-07-17T17:49:10.731791Z"
        },
        "id": "097de44f",
        "outputId": "2af82283-140d-4ecd-8e02-b76cad759a80"
      },
      "outputs": [
        {
          "data": {
            "text/plain": [
              "'250700'"
            ]
          },
          "execution_count": 173,
          "metadata": {},
          "output_type": "execute_result"
        }
      ],
      "source": [
        "re.search(r'\\d+', str(soup.select(\"div.draw\")[1].text)).group()"
      ]
    },
    {
      "cell_type": "code",
      "execution_count": null,
      "id": "6669fe43",
      "metadata": {
        "ExecuteTime": {
          "end_time": "2022-07-17T17:35:55.620184Z",
          "start_time": "2022-07-17T17:35:55.595409Z"
        },
        "id": "6669fe43"
      },
      "outputs": [],
      "source": [
        "pr = list(soup.select(\"div.numbers\")[1].find_all(\"b\"))"
      ]
    },
    {
      "cell_type": "code",
      "execution_count": null,
      "id": "fd2916c9",
      "metadata": {
        "ExecuteTime": {
          "end_time": "2022-07-17T17:48:24.591122Z",
          "start_time": "2022-07-17T17:48:24.578081Z"
        },
        "id": "fd2916c9",
        "outputId": "ba4b3779-b18d-4250-c24d-9fcc40f3b2cc"
      },
      "outputs": [
        {
          "data": {
            "text/plain": [
              "[<b>3 </b>,\n",
              " <b>7 </b>,\n",
              " <b>1 </b>,\n",
              " <b>18 </b>,\n",
              " <b>8 </b>,\n",
              " <b>15 </b>,\n",
              " <b>5 </b>,\n",
              " <b>13 </b>,\n",
              " <b class=\"extra\">3 </b>]"
            ]
          },
          "execution_count": 170,
          "metadata": {},
          "output_type": "execute_result"
        }
      ],
      "source": [
        "pr"
      ]
    },
    {
      "cell_type": "code",
      "execution_count": null,
      "id": "d632445b",
      "metadata": {
        "ExecuteTime": {
          "end_time": "2022-07-17T17:58:32.672274Z",
          "start_time": "2022-07-17T17:58:32.627275Z"
        },
        "id": "d632445b",
        "outputId": "e2008f10-7d1b-4d4a-9d1d-c090d79f78e9"
      },
      "outputs": [
        {
          "data": {
            "text/plain": [
              "['3', '7', '1', '18', '8', '15', '5', '13', '3']"
            ]
          },
          "execution_count": 225,
          "metadata": {},
          "output_type": "execute_result"
        }
      ],
      "source": [
        "pr = list(soup.select(\"div.numbers\")[1].find_all(\"b\"))\n",
        "z = []\n",
        "for i in pr:\n",
        "    z.append(re.search(r'\\d+', str(i)).group())\n",
        "z"
      ]
    },
    {
      "cell_type": "code",
      "execution_count": null,
      "id": "5ce77aa5",
      "metadata": {
        "ExecuteTime": {
          "end_time": "2022-07-17T17:56:58.137693Z",
          "start_time": "2022-07-17T17:56:58.077414Z"
        },
        "id": "5ce77aa5",
        "outputId": "b4df699b-009a-474c-faae-c18815162d6c",
        "scrolled": true
      },
      "outputs": [
        {
          "data": {
            "text/plain": [
              "'\\n\\t\\t\\t\\t23\\xa0725\\xa0050\\n\\t\\t\\t'"
            ]
          },
          "execution_count": 219,
          "metadata": {},
          "output_type": "execute_result"
        }
      ],
      "source": [
        "soup.select(\"div.prize\")[21].text"
      ]
    },
    {
      "cell_type": "code",
      "execution_count": null,
      "id": "de4c9e23",
      "metadata": {
        "ExecuteTime": {
          "end_time": "2022-07-17T17:57:21.909445Z",
          "start_time": "2022-07-17T17:57:21.880847Z"
        },
        "id": "de4c9e23",
        "outputId": "cd03be46-2540-43a0-bef4-2d901ffc5d22"
      },
      "outputs": [
        {
          "data": {
            "text/plain": [
              "'5'"
            ]
          },
          "execution_count": 222,
          "metadata": {},
          "output_type": "execute_result"
        }
      ],
      "source": [
        "re.search(r'\\d+', str(soup.select(\"div.prize\")[1].text)).group()"
      ]
    },
    {
      "cell_type": "markdown",
      "id": "cbc0b383",
      "metadata": {
        "id": "cbc0b383"
      },
      "source": [
        "_________"
      ]
    },
    {
      "cell_type": "code",
      "execution_count": null,
      "id": "d3a8d7d0",
      "metadata": {
        "ExecuteTime": {
          "end_time": "2022-07-17T18:33:21.297090Z",
          "start_time": "2022-07-17T18:33:21.247526Z"
        },
        "id": "d3a8d7d0"
      },
      "outputs": [],
      "source": [
        "data_circ = soup.select(\"div.draw_date\")[1].text"
      ]
    },
    {
      "cell_type": "code",
      "execution_count": null,
      "id": "b8a2c8ef",
      "metadata": {
        "ExecuteTime": {
          "end_time": "2022-07-17T18:18:21.171975Z",
          "start_time": "2022-07-17T18:18:21.127462Z"
        },
        "id": "b8a2c8ef"
      },
      "outputs": [],
      "source": [
        "circulation = re.search(r'\\d+', str(soup.select(\"div.draw\")[1].text)).group()"
      ]
    },
    {
      "cell_type": "code",
      "execution_count": null,
      "id": "9ef917a3",
      "metadata": {
        "ExecuteTime": {
          "end_time": "2022-07-17T18:18:21.687369Z",
          "start_time": "2022-07-17T18:18:21.628195Z"
        },
        "id": "9ef917a3"
      },
      "outputs": [],
      "source": [
        "prize = re.search(r'\\d+', str(soup.select(\"div.prize\")[1].text)).group()"
      ]
    },
    {
      "cell_type": "code",
      "execution_count": null,
      "id": "ec585f6d",
      "metadata": {
        "ExecuteTime": {
          "end_time": "2022-07-17T18:33:29.625452Z",
          "start_time": "2022-07-17T18:33:29.579745Z"
        },
        "id": "ec585f6d"
      },
      "outputs": [],
      "source": [
        "pr = list(soup.select(\"div.numbers\")[1].find_all(\"b\"))\n",
        "combinations  = []\n",
        "combinations.append(data_circ)\n",
        "combinations.append(circulation)\n",
        "for i in pr:\n",
        "    combinations.append(re.search(r'\\d+', str(i)).group())\n",
        "combinations.append(prize)"
      ]
    },
    {
      "cell_type": "code",
      "execution_count": null,
      "id": "82e44f80",
      "metadata": {
        "ExecuteTime": {
          "end_time": "2022-07-17T18:33:29.947487Z",
          "start_time": "2022-07-17T18:33:29.930646Z"
        },
        "id": "82e44f80",
        "outputId": "7d155f7e-1728-4bb9-de4a-eba999f1d30f"
      },
      "outputs": [
        {
          "data": {
            "text/plain": [
              "['17.07.2022 17:07:30',\n",
              " '250700',\n",
              " '3',\n",
              " '7',\n",
              " '1',\n",
              " '18',\n",
              " '8',\n",
              " '15',\n",
              " '5',\n",
              " '13',\n",
              " '3',\n",
              " '5']"
            ]
          },
          "execution_count": 274,
          "metadata": {},
          "output_type": "execute_result"
        }
      ],
      "source": [
        "combinations"
      ]
    },
    {
      "cell_type": "code",
      "execution_count": null,
      "id": "0ae4e541",
      "metadata": {
        "ExecuteTime": {
          "end_time": "2022-07-17T18:26:44.516696Z",
          "start_time": "2022-07-17T18:26:44.491437Z"
        },
        "id": "0ae4e541"
      },
      "outputs": [],
      "source": [
        "dffff.columns = ['Тираж', 'Число_1', 'Число_2', 'Число_3', 'Число_4', 'Число_5', 'Число_6', 'Число_7', 'Число_8',\n",
        "                 'Второй_ряд', 'Суперприз']"
      ]
    },
    {
      "cell_type": "code",
      "execution_count": null,
      "id": "5f99fece",
      "metadata": {
        "ExecuteTime": {
          "end_time": "2022-07-17T18:25:19.719411Z",
          "start_time": "2022-07-17T18:25:19.706446Z"
        },
        "id": "5f99fece"
      },
      "outputs": [],
      "source": [
        "dffff = pd.DataFrame(combinations).T"
      ]
    },
    {
      "cell_type": "code",
      "execution_count": null,
      "id": "4199db99",
      "metadata": {
        "ExecuteTime": {
          "end_time": "2022-07-17T18:26:50.187615Z",
          "start_time": "2022-07-17T18:26:50.172626Z"
        },
        "id": "4199db99",
        "outputId": "ed7e9893-0ae0-4acc-88cf-505815edc285"
      },
      "outputs": [
        {
          "data": {
            "text/html": [
              "<div>\n",
              "<style scoped>\n",
              "    .dataframe tbody tr th:only-of-type {\n",
              "        vertical-align: middle;\n",
              "    }\n",
              "\n",
              "    .dataframe tbody tr th {\n",
              "        vertical-align: top;\n",
              "    }\n",
              "\n",
              "    .dataframe thead th {\n",
              "        text-align: right;\n",
              "    }\n",
              "</style>\n",
              "<table border=\"1\" class=\"dataframe\">\n",
              "  <thead>\n",
              "    <tr style=\"text-align: right;\">\n",
              "      <th></th>\n",
              "      <th>Тираж</th>\n",
              "      <th>Число_1</th>\n",
              "      <th>Число_2</th>\n",
              "      <th>Число_3</th>\n",
              "      <th>Число_4</th>\n",
              "      <th>Число_5</th>\n",
              "      <th>Число_6</th>\n",
              "      <th>Число_7</th>\n",
              "      <th>Число_8</th>\n",
              "      <th>Второй_ряд</th>\n",
              "      <th>Суперприз</th>\n",
              "    </tr>\n",
              "  </thead>\n",
              "  <tbody>\n",
              "    <tr>\n",
              "      <th>0</th>\n",
              "      <td>250700</td>\n",
              "      <td>3</td>\n",
              "      <td>7</td>\n",
              "      <td>1</td>\n",
              "      <td>18</td>\n",
              "      <td>8</td>\n",
              "      <td>15</td>\n",
              "      <td>5</td>\n",
              "      <td>13</td>\n",
              "      <td>3</td>\n",
              "      <td>5</td>\n",
              "    </tr>\n",
              "  </tbody>\n",
              "</table>\n",
              "</div>"
            ],
            "text/plain": [
              "    Тираж Число_1 Число_2 Число_3 Число_4 Число_5 Число_6 Число_7 Число_8  \\\n",
              "0  250700       3       7       1      18       8      15       5      13   \n",
              "\n",
              "  Второй_ряд Суперприз  \n",
              "0          3         5  "
            ]
          },
          "execution_count": 255,
          "metadata": {},
          "output_type": "execute_result"
        }
      ],
      "source": [
        "dffff"
      ]
    },
    {
      "cell_type": "markdown",
      "id": "83413499",
      "metadata": {
        "id": "83413499"
      },
      "source": [
        "## BeautifulSoup in func"
      ]
    },
    {
      "cell_type": "markdown",
      "id": "7766ead3",
      "metadata": {
        "id": "7766ead3"
      },
      "source": [
        "### Rapido"
      ]
    },
    {
      "cell_type": "code",
      "execution_count": null,
      "id": "f56c3709",
      "metadata": {
        "ExecuteTime": {
          "end_time": "2022-07-18T09:53:47.265935Z",
          "start_time": "2022-07-18T09:53:47.250975Z"
        },
        "id": "f56c3709"
      },
      "outputs": [],
      "source": [
        "def get_page_soup(url: str):\n",
        "    r = requests.get(url)\n",
        "    r.encoding='utf-8'\n",
        "    if not r.ok:\n",
        "        return None\n",
        "    soup = BeautifulSoup(r.text, \"lxml\")\n",
        "    return soup\n",
        "\n",
        "def stolotoparser(site, start, deep):\n",
        "    \n",
        "    for j in range(start, start+49*deep, 49):\n",
        "        soup = get_page_soup(\n",
        "            f\"{site}/arc22&firstDraw={j}&lastDraw={j+49}&mode=draw\")\n",
        "\n",
        "        for i in range(1, 5[i].text\n",
        "            circulation = re.search(r'\\d+', str(soup.select(\"div.draw\")[i].text)).group()\n",
        "            prize = re.search(r'\\d+', str(soup.select(\"div.prize\")[i].text)).group()\n",
        "            pr = list(soup.select(\"div.numbers\")[i].find_all(\"b\"))\n",
        "            combinations  = []\n",
        "            combinations.append(data_circ)\n",
        "            combinations.append(circulation)\n",
        "            for k in pr:\n",
        "                combinations.append(re.search(r'\\d+', str(k)).group())\n",
        "            combinations.append(prize)\n",
        "            df = pd.DataFrame(combinations).T\n",
        "\n",
        "            if j == start and i == 1:\n",
        "                df_full = df\n",
        "            else:\n",
        "                df_full = pd.concat([df_full, df])\n",
        "            \n",
        "    df_full.columns = ['Дата', 'Тираж', 'Число_1', 'Число_2', 'Число_3', 'Число_4', 'Число_5', 'Число_6', 'Число_7', 'Число_8',\n",
        "                 'Второй_ряд', 'Суперприз']    \n",
        "    return df_full"
      ]
    },
    {
      "cell_type": "code",
      "execution_count": null,
      "id": "4358c744",
      "metadata": {
        "ExecuteTime": {
          "end_time": "2022-07-17T23:50:50.440778Z",
          "start_time": "2022-07-17T18:50:05.659900Z"
        },
        "id": "4358c744"
      },
      "outputs": [],
      "source": [
        "df_rapid_stoloto = stolotoparser(site='https://www.stoloto.ru/rapido', start=100000, deep=3075)"
      ]
    },
    {
      "cell_type": "code",
      "execution_count": null,
      "id": "aa8c9982",
      "metadata": {
        "ExecuteTime": {
          "end_time": "2022-07-18T06:55:06.518647Z",
          "start_time": "2022-07-18T06:55:06.477395Z"
        },
        "id": "aa8c9982",
        "outputId": "0bee9cac-4461-4981-ab94-e258da6e28ae"
      },
      "outputs": [
        {
          "name": "stdout",
          "output_type": "stream",
          "text": [
            "<class 'pandas.core.frame.DataFrame'>\n",
            "Int64Index: 153750 entries, 0 to 0\n",
            "Data columns (total 12 columns):\n",
            " #   Column      Non-Null Count   Dtype \n",
            "---  ------      --------------   ----- \n",
            " 0   Дата        153750 non-null  object\n",
            " 1   Тираж       153750 non-null  int16 \n",
            " 2   Число_1     153750 non-null  int16 \n",
            " 3   Число_2     153750 non-null  int16 \n",
            " 4   Число_3     153750 non-null  int16 \n",
            " 5   Число_4     153750 non-null  int16 \n",
            " 6   Число_5     153750 non-null  int16 \n",
            " 7   Число_6     153750 non-null  int16 \n",
            " 8   Число_7     153750 non-null  int16 \n",
            " 9   Число_8     153750 non-null  int16 \n",
            " 10  Второй_ряд  153750 non-null  int16 \n",
            " 11  Суперприз   153750 non-null  int16 \n",
            "dtypes: int16(11), object(1)\n",
            "memory usage: 5.6+ MB\n"
          ]
        }
      ],
      "source": [
        "df_rapid_stoloto.info()"
      ]
    },
    {
      "cell_type": "code",
      "execution_count": null,
      "id": "ecdde26d",
      "metadata": {
        "ExecuteTime": {
          "end_time": "2022-07-18T06:55:03.915776Z",
          "start_time": "2022-07-18T06:55:03.484926Z"
        },
        "id": "ecdde26d"
      },
      "outputs": [],
      "source": [
        "df_rapid_stoloto['Тираж'] = df_rapid_stoloto['Тираж'].astype('int16')\n",
        "df_rapid_stoloto['Число_1'] = df_rapid_stoloto['Число_1'].astype('int16')\n",
        "df_rapid_stoloto['Число_2'] = df_rapid_stoloto['Число_2'].astype('int16')\n",
        "df_rapid_stoloto['Число_3'] = df_rapid_stoloto['Число_3'].astype('int16')\n",
        "df_rapid_stoloto['Число_4'] = df_rapid_stoloto['Число_4'].astype('int16')\n",
        "df_rapid_stoloto['Число_5'] = df_rapid_stoloto['Число_5'].astype('int16')\n",
        "df_rapid_stoloto['Число_6'] = df_rapid_stoloto['Число_6'].astype('int16')\n",
        "df_rapid_stoloto['Число_7'] = df_rapid_stoloto['Число_7'].astype('int16')\n",
        "df_rapid_stoloto['Число_8'] = df_rapid_stoloto['Число_8'].astype('int16')\n",
        "df_rapid_stoloto['Второй_ряд'] = df_rapid_stoloto['Второй_ряд'].astype('int16')\n",
        "df_rapid_stoloto['Суперприз'] = df_rapid_stoloto['Суперприз'].astype('int16')"
      ]
    },
    {
      "cell_type": "code",
      "execution_count": null,
      "id": "f7717700",
      "metadata": {
        "ExecuteTime": {
          "end_time": "2022-07-18T06:55:37.091688Z",
          "start_time": "2022-07-18T06:55:13.776706Z"
        },
        "id": "f7717700"
      },
      "outputs": [],
      "source": [
        "df_rapid_stoloto.to_excel('df_rapid_stoloto.xlsx', engine='xlsxwriter', sheet_name='nationallottery', index=False)  "
      ]
    },
    {
      "cell_type": "code",
      "execution_count": null,
      "id": "b8d13003",
      "metadata": {
        "ExecuteTime": {
          "end_time": "2022-07-18T07:23:50.444165Z",
          "start_time": "2022-07-18T07:23:50.280628Z"
        },
        "id": "b8d13003",
        "outputId": "154a71bb-d425-4298-a14f-fc255db2f96d"
      },
      "outputs": [
        {
          "data": {
            "text/plain": [
              "<AxesSubplot:xlabel='Число_1'>"
            ]
          },
          "execution_count": 318,
          "metadata": {},
          "output_type": "execute_result"
        },
        {
          "data": {
            "image/png": "[encoded data removed]",
            "text/plain": [
              "<Figure size 432x288 with 1 Axes>"
            ]
          },
          "metadata": {
            "needs_background": "light"
          },
          "output_type": "display_data"
        }
      ],
      "source": [
        "df_rapid_stoloto.groupby('Число_1')['Число_1'].count().plot(kind='bar')"
      ]
    },
    {
      "cell_type": "code",
      "execution_count": null,
      "id": "f162d511",
      "metadata": {
        "ExecuteTime": {
          "end_time": "2022-07-18T07:25:03.245489Z",
          "start_time": "2022-07-18T07:25:03.081726Z"
        },
        "id": "f162d511",
        "outputId": "0b50da48-eddb-48dd-b948-cc4d71b169be"
      },
      "outputs": [
        {
          "data": {
            "text/plain": [
              "<AxesSubplot:xlabel='Число_2'>"
            ]
          },
          "execution_count": 319,
          "metadata": {},
          "output_type": "execute_result"
        },
        {
          "data": {
            "image/png": "[encoded data removed]",
            "text/plain": [
              "<Figure size 432x288 with 1 Axes>"
            ]
          },
          "metadata": {
            "needs_background": "light"
          },
          "output_type": "display_data"
        }
      ],
      "source": [
        "df_rapid_stoloto.groupby('Число_2')['Число_2'].count().plot(kind='bar')"
      ]
    },
    {
      "cell_type": "code",
      "execution_count": null,
      "id": "9f818a0b",
      "metadata": {
        "id": "9f818a0b"
      },
      "outputs": [],
      "source": [
        "df_rapid_stoloto.groupby('Число_2')['Число_2'].count().plot(kind='bar')"
      ]
    },
    {
      "cell_type": "code",
      "execution_count": null,
      "id": "69d7c09a",
      "metadata": {
        "ExecuteTime": {
          "end_time": "2022-07-18T07:27:23.183279Z",
          "start_time": "2022-07-18T07:26:55.082385Z"
        },
        "id": "69d7c09a",
        "outputId": "a98d626b-d3ba-47ef-9f6b-a8d51da32a1d"
      },
      "outputs": [
        {
          "data": {
            "image/png": "[encoded data removed]",
            "text/plain": [
              "<Figure size 1440x648 with 64 Axes>"
            ]
          },
          "metadata": {
            "needs_background": "light"
          },
          "output_type": "display_data"
        }
      ],
      "source": [
        "pd.plotting.scatter_matrix(df_rapid_stoloto[['Число_1', 'Число_2', 'Число_3', 'Число_4', 'Число_5',\n",
        "                                              'Число_6', 'Число_7', 'Число_8']], figsize=(20, 9))\n",
        "plt.show()"
      ]
    },
    {
      "cell_type": "code",
      "execution_count": null,
      "id": "c07d55e7",
      "metadata": {
        "ExecuteTime": {
          "end_time": "2022-07-18T07:27:46.307701Z",
          "start_time": "2022-07-18T07:27:46.202230Z"
        },
        "id": "c07d55e7",
        "outputId": "b59a4dc4-0e56-4220-f8c6-0ddb29c1b5d3"
      },
      "outputs": [
        {
          "data": {
            "text/plain": [
              "<AxesSubplot:xlabel='Второй_ряд'>"
            ]
          },
          "execution_count": 322,
          "metadata": {},
          "output_type": "execute_result"
        },
        {
          "data": {
            "image/png": "[encoded data removed]",
            "text/plain": [
              "<Figure size 432x288 with 1 Axes>"
            ]
          },
          "metadata": {
            "needs_background": "light"
          },
          "output_type": "display_data"
        }
      ],
      "source": [
        "df_rapid_stoloto.groupby('Второй_ряд')['Второй_ряд'].count().plot(kind='bar')"
      ]
    },
    {
      "cell_type": "markdown",
      "id": "79a3058a",
      "metadata": {
        "id": "79a3058a"
      },
      "source": [
        "### All or nothing"
      ]
    },
    {
      "cell_type": "code",
      "execution_count": null,
      "id": "a6a3caab",
      "metadata": {
        "ExecuteTime": {
          "end_time": "2022-07-18T13:23:10.717988Z",
          "start_time": "2022-07-18T13:23:10.703918Z"
        },
        "id": "a6a3caab"
      },
      "outputs": [],
      "source": [
        "def get_page_soup(url: str):\n",
        "    r = requests.get(url)\n",
        "    r.encoding='utf-8'\n",
        "    if not r.ok:\n",
        "        return None\n",
        "    soup = BeautifulSoup(r.text, \"lxml\")\n",
        "    return soup\n",
        "\n",
        "def stolotoparser(site, start, deep):\n",
        "    \n",
        "    for j in range(start, start+49*deep, 49):\n",
        "        soup = get_page_soup(\n",
        "            f\"{site}/archive?from=17.07.2022&to=17.07.2022&firstDraw=lastDraw=mode=draw\")\n",
        "\n",
        "        for i in range(1, 24):\n",
        "            data_circ = soup.select(\"div.draw_date\")[i].text\n",
        "            circulation = re.search(r'\\d+', str(soup].text)).group()\n",
        "            prize = re.search(r'\\d+', str(soup.select(\"div.pritext)).group()\n",
        "            pr = list(soup.select(\"div.numbers\")[i].find_all(\"b\"))\n",
        "            combinations  = []\n",
        "            combinations.append(data_circ)\n",
        "            combinations.append(circulation)\n",
        "            for k in pr:\n",
        "                combinations.append(re.search(r'\\d+', str(k)).group())\n",
        "            combinations.append(prize)\n",
        "            df = pd.DataFrame(combinations).T\n",
        "\n",
        "            if j == start and i == 1:\n",
        "                df_full = df\n",
        "            else:\n",
        "                df_full = pd.concat([df_full, df])\n",
        "            \n",
        "#         df_full.columns = ['Дата', 'Тираж', 'Число_1', 'Число_2', 'Число_3', 'Число_4', 'Число_5', 'Число_6', 'Число_7', 'Число_8', 'Число_9', 'Число_10', 'Число_11', 'Число_12',  'Суперприз']    \n",
        "    return df_full"
      ]
    },
    {
      "cell_type": "code",
      "execution_count": null,
      "id": "d8d83294",
      "metadata": {
        "ExecuteTime": {
          "end_time": "2022-07-18T13:27:35.870481Z",
          "start_time": "2022-07-18T13:24:52.818932Z"
        },
        "id": "d8d83294"
      },
      "outputs": [],
      "source": [
        "df_all_or_nothing_stoloto = stolotoparser(site='http://www.stoloto.ru/1224', start=46000, deep=71)"
      ]
    },
    {
      "cell_type": "code",
      "execution_count": null,
      "id": "b814cf3e",
      "metadata": {
        "ExecuteTime": {
          "end_time": "2022-07-18T13:27:35.899121Z",
          "start_time": "2022-07-18T13:27:35.870481Z"
        },
        "id": "b814cf3e"
      },
      "outputs": [],
      "source": [
        "df_all_or_nothing_stoloto.columns = ['Дата', 'Тираж', 'Число_1', 'Число_2', 'Число_3', 'Число_4', 'Число_5', 'Число_6', 'Число_7', 'Число_8', 'Число_9', 'Число_10', 'Число_11', 'Число_12',  'Суперприз']    "
      ]
    },
    {
      "cell_type": "code",
      "execution_count": null,
      "id": "d0a633da",
      "metadata": {
        "ExecuteTime": {
          "end_time": "2022-07-18T13:27:35.924376Z",
          "start_time": "2022-07-18T13:27:35.899121Z"
        },
        "id": "d0a633da",
        "outputId": "5299c62e-90d2-4003-a568-f212b5e0cb9d"
      },
      "outputs": [
        {
          "data": {
            "text/html": [
              "<div>\n",
              "<style scoped>\n",
              "    .dataframe tbody tr th:only-of-type {\n",
              "        vertical-align: middle;\n",
              "    }\n",
              "\n",
              "    .dataframe tbody tr th {\n",
              "        vertical-align: top;\n",
              "    }\n",
              "\n",
              "    .dataframe thead th {\n",
              "        text-align: right;\n",
              "    }\n",
              "</style>\n",
              "<table border=\"1\" class=\"dataframe\">\n",
              "  <thead>\n",
              "    <tr style=\"text-align: right;\">\n",
              "      <th></th>\n",
              "      <th>Дата</th>\n",
              "      <th>Тираж</th>\n",
              "      <th>Число_1</th>\n",
              "      <th>Число_2</th>\n",
              "      <th>Число_3</th>\n",
              "      <th>Число_4</th>\n",
              "      <th>Число_5</th>\n",
              "      <th>Число_6</th>\n",
              "      <th>Число_7</th>\n",
              "      <th>Число_8</th>\n",
              "      <th>Число_9</th>\n",
              "      <th>Число_10</th>\n",
              "      <th>Число_11</th>\n",
              "      <th>Число_12</th>\n",
              "      <th>Суперприз</th>\n",
              "    </tr>\n",
              "  </thead>\n",
              "  <tbody>\n",
              "    <tr>\n",
              "      <th>0</th>\n",
              "      <td>09.06.2022 07:30:00</td>\n",
              "      <td>46049</td>\n",
              "      <td>14</td>\n",
              "      <td>21</td>\n",
              "      <td>2</td>\n",
              "      <td>4</td>\n",
              "      <td>15</td>\n",
              "      <td>22</td>\n",
              "      <td>13</td>\n",
              "      <td>17</td>\n",
              "      <td>7</td>\n",
              "      <td>23</td>\n",
              "      <td>19</td>\n",
              "      <td>5</td>\n",
              "      <td>4</td>\n",
              "    </tr>\n",
              "    <tr>\n",
              "      <th>0</th>\n",
              "      <td>09.06.2022 07:15:00</td>\n",
              "      <td>46048</td>\n",
              "      <td>2</td>\n",
              "      <td>13</td>\n",
              "      <td>4</td>\n",
              "      <td>15</td>\n",
              "      <td>20</td>\n",
              "      <td>5</td>\n",
              "      <td>8</td>\n",
              "      <td>6</td>\n",
              "      <td>17</td>\n",
              "      <td>19</td>\n",
              "      <td>14</td>\n",
              "      <td>11</td>\n",
              "      <td>4</td>\n",
              "    </tr>\n",
              "    <tr>\n",
              "      <th>0</th>\n",
              "      <td>09.06.2022 07:00:00</td>\n",
              "      <td>46047</td>\n",
              "      <td>6</td>\n",
              "      <td>13</td>\n",
              "      <td>18</td>\n",
              "      <td>20</td>\n",
              "      <td>24</td>\n",
              "      <td>14</td>\n",
              "      <td>2</td>\n",
              "      <td>1</td>\n",
              "      <td>19</td>\n",
              "      <td>21</td>\n",
              "      <td>22</td>\n",
              "      <td>3</td>\n",
              "      <td>4</td>\n",
              "    </tr>\n",
              "    <tr>\n",
              "      <th>0</th>\n",
              "      <td>09.06.2022 06:45:00</td>\n",
              "      <td>46046</td>\n",
              "      <td>4</td>\n",
              "      <td>17</td>\n",
              "      <td>13</td>\n",
              "      <td>24</td>\n",
              "      <td>21</td>\n",
              "      <td>6</td>\n",
              "      <td>12</td>\n",
              "      <td>11</td>\n",
              "      <td>14</td>\n",
              "      <td>7</td>\n",
              "      <td>23</td>\n",
              "      <td>1</td>\n",
              "      <td>4</td>\n",
              "    </tr>\n",
              "    <tr>\n",
              "      <th>0</th>\n",
              "      <td>09.06.2022 06:30:00</td>\n",
              "      <td>46045</td>\n",
              "      <td>16</td>\n",
              "      <td>4</td>\n",
              "      <td>6</td>\n",
              "      <td>12</td>\n",
              "      <td>17</td>\n",
              "      <td>9</td>\n",
              "      <td>22</td>\n",
              "      <td>3</td>\n",
              "      <td>19</td>\n",
              "      <td>18</td>\n",
              "      <td>14</td>\n",
              "      <td>7</td>\n",
              "      <td>4</td>\n",
              "    </tr>\n",
              "  </tbody>\n",
              "</table>\n",
              "</div>"
            ],
            "text/plain": [
              "                  Дата  Тираж Число_1 Число_2 Число_3 Число_4 Число_5 Число_6  \\\n",
              "0  09.06.2022 07:30:00  46049      14      21       2       4      15      22   \n",
              "0  09.06.2022 07:15:00  46048       2      13       4      15      20       5   \n",
              "0  09.06.2022 07:00:00  46047       6      13      18      20      24      14   \n",
              "0  09.06.2022 06:45:00  46046       4      17      13      24      21       6   \n",
              "0  09.06.2022 06:30:00  46045      16       4       6      12      17       9   \n",
              "\n",
              "  Число_7 Число_8 Число_9 Число_10 Число_11 Число_12 Суперприз  \n",
              "0      13      17       7       23       19        5         4  \n",
              "0       8       6      17       19       14       11         4  \n",
              "0       2       1      19       21       22        3         4  \n",
              "0      12      11      14        7       23        1         4  \n",
              "0      22       3      19       18       14        7         4  "
            ]
          },
          "execution_count": 35,
          "metadata": {},
          "output_type": "execute_result"
        }
      ],
      "source": [
        "df_all_or_nothing_stoloto.head()"
      ]
    },
    {
      "cell_type": "code",
      "execution_count": null,
      "id": "e1020ba9",
      "metadata": {
        "ExecuteTime": {
          "end_time": "2022-07-18T13:27:35.955521Z",
          "start_time": "2022-07-18T13:27:35.926369Z"
        },
        "id": "e1020ba9",
        "outputId": "0dd97f53-c42d-444a-c59f-b78c497baf97"
      },
      "outputs": [
        {
          "name": "stdout",
          "output_type": "stream",
          "text": [
            "<class 'pandas.core.frame.DataFrame'>\n",
            "Int64Index: 1633 entries, 0 to 0\n",
            "Data columns (total 15 columns):\n",
            " #   Column     Non-Null Count  Dtype \n",
            "---  ------     --------------  ----- \n",
            " 0   Дата       1633 non-null   object\n",
            " 1   Тираж      1633 non-null   object\n",
            " 2   Число_1    1633 non-null   object\n",
            " 3   Число_2    1633 non-null   object\n",
            " 4   Число_3    1633 non-null   object\n",
            " 5   Число_4    1633 non-null   object\n",
            " 6   Число_5    1633 non-null   object\n",
            " 7   Число_6    1633 non-null   object\n",
            " 8   Число_7    1633 non-null   object\n",
            " 9   Число_8    1633 non-null   object\n",
            " 10  Число_9    1633 non-null   object\n",
            " 11  Число_10   1633 non-null   object\n",
            " 12  Число_11   1633 non-null   object\n",
            " 13  Число_12   1633 non-null   object\n",
            " 14  Суперприз  1633 non-null   object\n",
            "dtypes: object(15)\n",
            "memory usage: 204.1+ KB\n"
          ]
        }
      ],
      "source": [
        "df_all_or_nothing_stoloto.info()"
      ]
    },
    {
      "cell_type": "code",
      "execution_count": null,
      "id": "4fb40a45",
      "metadata": {
        "ExecuteTime": {
          "end_time": "2022-07-18T13:33:34.417166Z",
          "start_time": "2022-07-18T13:33:34.396236Z"
        },
        "id": "4fb40a45"
      },
      "outputs": [],
      "source": [
        "df_all_or_nothing_stoloto['Тираж'] = df_all_or_nothing_stoloto['Тираж'].astype('int')\n",
        "df_all_or_nothing_stoloto['Число_1'] = df_all_or_nothing_stoloto['Число_1'].astype('int16')\n",
        "df_all_or_nothing_stoloto['Число_2'] = df_all_or_nothing_stoloto['Число_2'].astype('int16')\n",
        "df_all_or_nothing_stoloto['Число_3'] = df_all_or_nothing_stoloto['Число_3'].astype('int16')\n",
        "df_all_or_nothing_stoloto['Число_4'] = df_all_or_nothing_stoloto['Число_4'].astype('int16')\n",
        "df_all_or_nothing_stoloto['Число_5'] = df_all_or_nothing_stoloto['Число_5'].astype('int16')\n",
        "df_all_or_nothing_stoloto['Число_6'] = df_all_or_nothing_stoloto['Число_6'].astype('int16')\n",
        "df_all_or_nothing_stoloto['Число_7'] = df_all_or_not df_all_or_nothing_stoloto['Число_8'].astype('int16')\n",
        "df_all_or_nothing_stoloto['Число_9'] = df_all_or_nothing_stoloto['Число_9'].astype('int16')\n",
        "df_all_or_nothing_stoloto['Число_10'] = df_all_or_nothing_stoloto['Число_10'].astype('int16')\n",
        "df_all_or_nothing_stoloto['Число_11'] = df_all_or_nothing_stoloto['Число_11'].astype('int16')\n",
        "df_all_or_nothing_stoloto['Число_12'] = df_all_or_nothing_stoloto['Число_12'].astype('int16')\n",
        "df_all_or_nothing_stoloto['Суперприз'] = df_all_or_nothing_stoloto['Суперприз'].astype('int16')"
      ]
    },
    {
      "cell_type": "code",
      "execution_count": null,
      "id": "567b8354",
      "metadata": {
        "ExecuteTime": {
          "end_time": "2022-07-18T13:33:36.120163Z",
          "start_time": "2022-07-18T13:33:36.077743Z"
        },
        "id": "567b8354",
        "outputId": "f79e9d85-e7c8-4e5f-fedb-5fb477c28c95"
      },
      "outputs": [
        {
          "data": {
            "text/html": [
              "<div>\n",
              "<style scoped>\n",
              "    .dataframe tbody tr th:only-of-type {\n",
              "        vertical-align: middle;\n",
              "    }\n",
              "\n",
              "    .dataframe tbody tr th {\n",
              "        vertical-align: top;\n",
              "    }\n",
              "\n",
              "    .dataframe thead th {\n",
              "        text-align: right;\n",
              "    }\n",
              "</style>\n",
              "<table border=\"1\" class=\"dataframe\">\n",
              "  <thead>\n",
              "    <tr style=\"text-align: right;\">\n",
              "      <th></th>\n",
              "      <th>Тираж</th>\n",
              "      <th>Число_1</th>\n",
              "      <th>Число_2</th>\n",
              "      <th>Число_3</th>\n",
              "      <th>Число_4</th>\n",
              "      <th>Число_5</th>\n",
              "      <th>Число_6</th>\n",
              "      <th>Число_7</th>\n",
              "      <th>Число_8</th>\n",
              "      <th>Число_9</th>\n",
              "      <th>Число_10</th>\n",
              "      <th>Число_11</th>\n",
              "      <th>Число_12</th>\n",
              "      <th>Суперприз</th>\n",
              "    </tr>\n",
              "  </thead>\n",
              "  <tbody>\n",
              "    <tr>\n",
              "      <th>count</th>\n",
              "      <td>1633.000000</td>\n",
              "      <td>1633.000000</td>\n",
              "      <td>1633.000000</td>\n",
              "      <td>1633.000000</td>\n",
              "      <td>1633.000000</td>\n",
              "      <td>1633.000000</td>\n",
              "      <td>1633.000000</td>\n",
              "      <td>1633.000000</td>\n",
              "      <td>1633.000000</td>\n",
              "      <td>1633.000000</td>\n",
              "      <td>1633.000000</td>\n",
              "      <td>1633.000000</td>\n",
              "      <td>1633.000000</td>\n",
              "      <td>1633.000000</td>\n",
              "    </tr>\n",
              "    <tr>\n",
              "      <th>mean</th>\n",
              "      <td>47753.000000</td>\n",
              "      <td>12.703001</td>\n",
              "      <td>12.668096</td>\n",
              "      <td>12.446418</td>\n",
              "      <td>12.429271</td>\n",
              "      <td>12.525413</td>\n",
              "      <td>12.254133</td>\n",
              "      <td>12.609308</td>\n",
              "      <td>12.385181</td>\n",
              "      <td>12.744029</td>\n",
              "      <td>12.714023</td>\n",
              "      <td>12.383344</td>\n",
              "      <td>12.761788</td>\n",
              "      <td>6.787508</td>\n",
              "    </tr>\n",
              "    <tr>\n",
              "      <th>std</th>\n",
              "      <td>1004.530702</td>\n",
              "      <td>6.925326</td>\n",
              "      <td>6.847163</td>\n",
              "      <td>6.885156</td>\n",
              "      <td>7.001929</td>\n",
              "      <td>6.961783</td>\n",
              "      <td>6.901776</td>\n",
              "      <td>6.872113</td>\n",
              "      <td>7.024324</td>\n",
              "      <td>6.862042</td>\n",
              "      <td>6.935251</td>\n",
              "      <td>7.000614</td>\n",
              "      <td>6.885724</td>\n",
              "      <td>4.566989</td>\n",
              "    </tr>\n",
              "    <tr>\n",
              "      <th>min</th>\n",
              "      <td>46027.000000</td>\n",
              "      <td>1.000000</td>\n",
              "      <td>1.000000</td>\n",
              "      <td>1.000000</td>\n",
              "      <td>1.000000</td>\n",
              "      <td>1.000000</td>\n",
              "      <td>1.000000</td>\n",
              "      <td>1.000000</td>\n",
              "      <td>1.000000</td>\n",
              "      <td>1.000000</td>\n",
              "      <td>1.000000</td>\n",
              "      <td>1.000000</td>\n",
              "      <td>1.000000</td>\n",
              "      <td>3.000000</td>\n",
              "    </tr>\n",
              "    <tr>\n",
              "      <th>25%</th>\n",
              "      <td>46877.000000</td>\n",
              "      <td>7.000000</td>\n",
              "      <td>7.000000</td>\n",
              "      <td>7.000000</td>\n",
              "      <td>7.000000</td>\n",
              "      <td>7.000000</td>\n",
              "      <td>6.000000</td>\n",
              "      <td>7.000000</td>\n",
              "      <td>6.000000</td>\n",
              "      <td>7.000000</td>\n",
              "      <td>7.000000</td>\n",
              "      <td>6.000000</td>\n",
              "      <td>7.000000</td>\n",
              "      <td>3.000000</td>\n",
              "    </tr>\n",
              "    <tr>\n",
              "      <th>50%</th>\n",
              "      <td>47753.000000</td>\n",
              "      <td>13.000000</td>\n",
              "      <td>13.000000</td>\n",
              "      <td>13.000000</td>\n",
              "      <td>12.000000</td>\n",
              "      <td>13.000000</td>\n",
              "      <td>12.000000</td>\n",
              "      <td>13.000000</td>\n",
              "      <td>12.000000</td>\n",
              "      <td>13.000000</td>\n",
              "      <td>13.000000</td>\n",
              "      <td>12.000000</td>\n",
              "      <td>13.000000</td>\n",
              "      <td>5.000000</td>\n",
              "    </tr>\n",
              "    <tr>\n",
              "      <th>75%</th>\n",
              "      <td>48629.000000</td>\n",
              "      <td>19.000000</td>\n",
              "      <td>18.000000</td>\n",
              "      <td>18.000000</td>\n",
              "      <td>19.000000</td>\n",
              "      <td>19.000000</td>\n",
              "      <td>18.000000</td>\n",
              "      <td>19.000000</td>\n",
              "      <td>19.000000</td>\n",
              "      <td>18.000000</td>\n",
              "      <td>19.000000</td>\n",
              "      <td>19.000000</td>\n",
              "      <td>19.000000</td>\n",
              "      <td>10.000000</td>\n",
              "    </tr>\n",
              "    <tr>\n",
              "      <th>max</th>\n",
              "      <td>49479.000000</td>\n",
              "      <td>24.000000</td>\n",
              "      <td>24.000000</td>\n",
              "      <td>24.000000</td>\n",
              "      <td>24.000000</td>\n",
              "      <td>24.000000</td>\n",
              "      <td>24.000000</td>\n",
              "      <td>24.000000</td>\n",
              "      <td>24.000000</td>\n",
              "      <td>24.000000</td>\n",
              "      <td>24.000000</td>\n",
              "      <td>24.000000</td>\n",
              "      <td>24.000000</td>\n",
              "      <td>20.000000</td>\n",
              "    </tr>\n",
              "  </tbody>\n",
              "</table>\n",
              "</div>"
            ],
            "text/plain": [
              "              Тираж      Число_1      Число_2      Число_3      Число_4  \\\n",
              "count   1633.000000  1633.000000  1633.000000  1633.000000  1633.000000   \n",
              "mean   47753.000000    12.703001    12.668096    12.446418    12.429271   \n",
              "std     1004.530702     6.925326     6.847163     6.885156     7.001929   \n",
              "min    46027.000000     1.000000     1.000000     1.000000     1.000000   \n",
              "25%    46877.000000     7.000000     7.000000     7.000000     7.000000   \n",
              "50%    47753.000000    13.000000    13.000000    13.000000    12.000000   \n",
              "75%    48629.000000    19.000000    18.000000    18.000000    19.000000   \n",
              "max    49479.000000    24.000000    24.000000    24.000000    24.000000   \n",
              "\n",
              "           Число_5      Число_6      Число_7      Число_8      Число_9  \\\n",
              "count  1633.000000  1633.000000  1633.000000  1633.000000  1633.000000   \n",
              "mean     12.525413    12.254133    12.609308    12.385181    12.744029   \n",
              "std       6.961783     6.901776     6.872113     7.024324     6.862042   \n",
              "min       1.000000     1.000000     1.000000     1.000000     1.000000   \n",
              "25%       7.000000     6.000000     7.000000     6.000000     7.000000   \n",
              "50%      13.000000    12.000000    13.000000    12.000000    13.000000   \n",
              "75%      19.000000    18.000000    19.000000    19.000000    18.000000   \n",
              "max      24.000000    24.000000    24.000000    24.000000    24.000000   \n",
              "\n",
              "          Число_10     Число_11     Число_12    Суперприз  \n",
              "count  1633.000000  1633.000000  1633.000000  1633.000000  \n",
              "mean     12.714023    12.383344    12.761788     6.787508  \n",
              "std       6.935251     7.000614     6.885724     4.566989  \n",
              "min       1.000000     1.000000     1.000000     3.000000  \n",
              "25%       7.000000     6.000000     7.000000     3.000000  \n",
              "50%      13.000000    12.000000    13.000000     5.000000  \n",
              "75%      19.000000    19.000000    19.000000    10.000000  \n",
              "max      24.000000    24.000000    24.000000    20.000000  "
            ]
          },
          "execution_count": 42,
          "metadata": {},
          "output_type": "execute_result"
        }
      ],
      "source": [
        "df_all_or_nothing_stoloto.describe()"
      ]
    },
    {
      "cell_type": "code",
      "execution_count": null,
      "id": "4f2f1b61",
      "metadata": {
        "ExecuteTime": {
          "end_time": "2022-07-18T13:31:00.636838Z",
          "start_time": "2022-07-18T13:30:59.556972Z"
        },
        "id": "4f2f1b61",
        "outputId": "eec8df03-b552-47f5-c225-4ac9b77eaddc"
      },
      "outputs": [
        {
          "data": {
            "text/plain": [
              "<AxesSubplot:xlabel='Число_1'>"
            ]
          },
          "execution_count": 37,
          "metadata": {},
          "output_type": "execute_result"
        },
        {
          "data": {
            "image/png": "[encoded data removed]",
            "text/plain": [
              "<Figure size 432x288 with 1 Axes>"
            ]
          },
          "metadata": {
            "needs_background": "light"
          },
          "output_type": "display_data"
        }
      ],
      "source": [
        "df_all_or_nothing_stoloto.groupby('Число_1')['Число_1'].count().plot(kind='bar')"
      ]
    },
    {
      "cell_type": "code",
      "execution_count": null,
      "id": "9473346f",
      "metadata": {
        "ExecuteTime": {
          "end_time": "2022-07-18T13:31:21.890616Z",
          "start_time": "2022-07-18T13:31:21.740763Z"
        },
        "id": "9473346f",
        "outputId": "1abee65b-d0b4-4442-e62f-2483267469de"
      },
      "outputs": [
        {
          "data": {
            "text/plain": [
              "<AxesSubplot:xlabel='Число_2'>"
            ]
          },
          "execution_count": 38,
          "metadata": {},
          "output_type": "execute_result"
        },
        {
          "data": {
            "image/png": "[encoded data removed]",
            "text/plain": [
              "<Figure size 432x288 with 1 Axes>"
            ]
          },
          "metadata": {
            "needs_background": "light"
          },
          "output_type": "display_data"
        }
      ],
      "source": [
        "df_all_or_nothing_stoloto.groupby('Число_2')['Число_2'].count().plot(kind='bar')"
      ]
    },
    {
      "cell_type": "markdown",
      "id": "9f5047f5",
      "metadata": {
        "id": "9f5047f5"
      },
      "source": [
        "Распределение чисел равномерное, что означает лотерея СТОЛОТО честная. Играем :)"
      ]
    }
  ],
  "metadata": {
    "colab": {
      "name": "parser_nationallottery.ipynb",
      "provenance": [],
      "toc_visible": true
    },
    "kernelspec": {
      "display_name": "Python 3.10.4 64-bit",
      "language": "python",
      "name": "python3"
    },
    "language_info": {
      "codemirror_mode": {
        "name": "ipython",
        "version": 3
      },
      "file_extension": ".py",
      "mimetype": "text/x-python",
      "name": "python",
      "nbconvert_exporter": "python",
      "pygments_lexer": "ipython3",
      "version": "3.10.4"
    },
    "toc": {
      "base_numbering": 1,
      "nav_menu": {},
      "number_sections": true,
      "sideBar": true,
      "skip_h1_title": false,
      "title_cell": "Table of Contents",
      "title_sidebar": "Contents",
      "toc_cell": false,
      "toc_position": {
        "height": "calc(100% - 180px)",
        "left": "10px",
        "top": "150px",
        "width": "376px"
      },
      "toc_section_display": true,
      "toc_window_display": true
    },
    "vscode": {
      "interpreter": {
        "hash": "916dbcbb3f70747c44a77c7bcd40155683ae19c65e1c03b4aa3499c5328201f1"
      }
    }
  },
  "nbformat": 4,
  "nbformat_minor": 5
}
