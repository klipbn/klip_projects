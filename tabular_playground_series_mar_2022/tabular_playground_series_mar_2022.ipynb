{
 "cells": [
  {
   "cell_type": "code",
   "execution_count": 2,
   "metadata": {
    "id": "s3QJC91NEI-a"
   },
   "outputs": [],
   "source": [
    "# !pip install catboost"
   ]
  },
  {
   "cell_type": "markdown",
   "metadata": {
    "id": "YCgO7JMKLUpw"
   },
   "source": [
    "Hello. My name is Alexey.\n",
    "I used several machine learning models in my work.\n",
    "Best result on Catboost Resgressor = 5.023."
   ]
  },
  {
   "cell_type": "markdown",
   "metadata": {
    "id": "PDbLsL42Ob9Z"
   },
   "source": [
    "# Traffic forecast in the metropolis"
   ]
  },
  {
   "cell_type": "markdown",
   "metadata": {
    "id": "kheKV4ldOlvm"
   },
   "source": [
    "## Data preparation"
   ]
  },
  {
   "cell_type": "markdown",
   "metadata": {
    "id": "3nM7sqOZOLqS"
   },
   "source": [
    "For the March edition of the 2022 Tabular Playground Series you're challenged to forecast twelve-hours of traffic flow in a U.S. metropolis. The time series in this dataset are labelled with both location coordinates and a direction of travel -- a combination of features that will test your skill at spatio-temporal forecasting within a highly dynamic traffic network.\n",
    "\n",
    "Which model will prevail? The venerable linear regression? The deservedly-popular ensemble of decision trees? Or maybe a cutting-edge graph neural-network? We can't wait to see!"
   ]
  },
  {
   "cell_type": "code",
   "execution_count": 3,
   "metadata": {
    "id": "4tb3pPPo3PXF"
   },
   "outputs": [],
   "source": [
    "import pandas as pd\n",
    "\n",
    "from sklearn.ensemble import RandomForestRegressor\n",
    "from sklearn.linear_model import LinearRegression\n",
    "import xgboost as xgb\n",
    "from sklearn.model_selection import train_test_split, GridSearchCV\n",
    "from sklearn.metrics import mean_absolute_error\n",
    "\n",
    "from catboost import CatBoostRegressor\n",
    "\n",
    "import numpy as np\n",
    "import matplotlib.pyplot as plt\n",
    "import seaborn as sns"
   ]
  },
  {
   "cell_type": "markdown",
   "metadata": {
    "id": "vzlE11h2OqVh"
   },
   "source": [
    "### Exploring Files"
   ]
  },
  {
   "cell_type": "markdown",
   "metadata": {
    "id": "4mU2nlEUhybN"
   },
   "source": [
    "Files and Field Descriptions:  \n",
    "`train.csv` - the training set, comprising measurements of traffic congestion across 65 roadways from April through September of 1991.  \n",
    "- `row_id` - a unique identifier for this instance  \n",
    "- `time` - the 20-minute period in which each measurement was taken  \n",
    "- `x` - the east-west midpoint coordinate of the roadway  \n",
    "- `y` - the north-south midpoint coordinate of the roadway  \n",
    "- `direction` - the direction of travel of the roadway. EB indicates \"eastbound\" travel, for example, while SW indicates a \"southwest\" direction of travel.  \n",
    "- `congestion` - congestion levels for the roadway during each hour; the target. The congestion measurements have been normalized to the range 0 to 100.  \n",
    "\n",
    "`test.csv` - the test set; you will make hourly predictions for roadways identified by a coordinate location and a direction of travel on the day of 1991-09-30.  "
   ]
  },
  {
   "cell_type": "code",
   "execution_count": 4,
   "metadata": {
    "id": "udq_xRLg3RSU"
   },
   "outputs": [],
   "source": [
    "df_train = pd.read_csv(r\"/content/train.csv\")"
   ]
  },
  {
   "cell_type": "code",
   "execution_count": 5,
   "metadata": {
    "colab": {
     "base_uri": "https://localhost:8080/",
     "height": 206
    },
    "id": "Tj69cXri3SGp",
    "outputId": "73f62019-06d1-41c0-ebc1-edba210f77f2"
   },
   "outputs": [
    {
     "data": {
      "text/html": [
       "<div>\n",
       "<style scoped>\n",
       "    .dataframe tbody tr th:only-of-type {\n",
       "        vertical-align: middle;\n",
       "    }\n",
       "\n",
       "    .dataframe tbody tr th {\n",
       "        vertical-align: top;\n",
       "    }\n",
       "\n",
       "    .dataframe thead th {\n",
       "        text-align: right;\n",
       "    }\n",
       "</style>\n",
       "<table border=\"1\" class=\"dataframe\">\n",
       "  <thead>\n",
       "    <tr style=\"text-align: right;\">\n",
       "      <th></th>\n",
       "      <th>row_id</th>\n",
       "      <th>time</th>\n",
       "      <th>x</th>\n",
       "      <th>y</th>\n",
       "      <th>direction</th>\n",
       "      <th>congestion</th>\n",
       "    </tr>\n",
       "  </thead>\n",
       "  <tbody>\n",
       "    <tr>\n",
       "      <th>0</th>\n",
       "      <td>0</td>\n",
       "      <td>1991-04-01 00:00:00</td>\n",
       "      <td>0</td>\n",
       "      <td>0</td>\n",
       "      <td>EB</td>\n",
       "      <td>70</td>\n",
       "    </tr>\n",
       "    <tr>\n",
       "      <th>1</th>\n",
       "      <td>1</td>\n",
       "      <td>1991-04-01 00:00:00</td>\n",
       "      <td>0</td>\n",
       "      <td>0</td>\n",
       "      <td>NB</td>\n",
       "      <td>49</td>\n",
       "    </tr>\n",
       "    <tr>\n",
       "      <th>2</th>\n",
       "      <td>2</td>\n",
       "      <td>1991-04-01 00:00:00</td>\n",
       "      <td>0</td>\n",
       "      <td>0</td>\n",
       "      <td>SB</td>\n",
       "      <td>24</td>\n",
       "    </tr>\n",
       "    <tr>\n",
       "      <th>3</th>\n",
       "      <td>3</td>\n",
       "      <td>1991-04-01 00:00:00</td>\n",
       "      <td>0</td>\n",
       "      <td>1</td>\n",
       "      <td>EB</td>\n",
       "      <td>18</td>\n",
       "    </tr>\n",
       "    <tr>\n",
       "      <th>4</th>\n",
       "      <td>4</td>\n",
       "      <td>1991-04-01 00:00:00</td>\n",
       "      <td>0</td>\n",
       "      <td>1</td>\n",
       "      <td>NB</td>\n",
       "      <td>60</td>\n",
       "    </tr>\n",
       "  </tbody>\n",
       "</table>\n",
       "</div>"
      ],
      "text/plain": [
       "   row_id                 time  x  y direction  congestion\n",
       "0       0  1991-04-01 00:00:00  0  0        EB          70\n",
       "1       1  1991-04-01 00:00:00  0  0        NB          49\n",
       "2       2  1991-04-01 00:00:00  0  0        SB          24\n",
       "3       3  1991-04-01 00:00:00  0  1        EB          18\n",
       "4       4  1991-04-01 00:00:00  0  1        NB          60"
      ]
     },
     "execution_count": 5,
     "metadata": {},
     "output_type": "execute_result"
    }
   ],
   "source": [
    "df_train.head()"
   ]
  },
  {
   "cell_type": "code",
   "execution_count": 6,
   "metadata": {
    "colab": {
     "base_uri": "https://localhost:8080/"
    },
    "id": "qf2FvFQv3SFP",
    "outputId": "81403447-b5f4-4f97-ffdc-c5f2c60cf9f6"
   },
   "outputs": [
    {
     "name": "stdout",
     "output_type": "stream",
     "text": [
      "<class 'pandas.core.frame.DataFrame'>\n",
      "RangeIndex: 848835 entries, 0 to 848834\n",
      "Data columns (total 6 columns):\n",
      " #   Column      Non-Null Count   Dtype \n",
      "---  ------      --------------   ----- \n",
      " 0   row_id      848835 non-null  int64 \n",
      " 1   time        848835 non-null  object\n",
      " 2   x           848835 non-null  int64 \n",
      " 3   y           848835 non-null  int64 \n",
      " 4   direction   848835 non-null  object\n",
      " 5   congestion  848835 non-null  int64 \n",
      "dtypes: int64(4), object(2)\n",
      "memory usage: 38.9+ MB\n"
     ]
    }
   ],
   "source": [
    "df_train.info()"
   ]
  },
  {
   "cell_type": "code",
   "execution_count": 7,
   "metadata": {
    "id": "IU4_L_NE3SDI"
   },
   "outputs": [],
   "source": [
    "df_test = pd.read_csv(r\"/content/test.csv\")"
   ]
  },
  {
   "cell_type": "code",
   "execution_count": 8,
   "metadata": {
    "colab": {
     "base_uri": "https://localhost:8080/",
     "height": 206
    },
    "id": "JFzx79H-4W6G",
    "outputId": "cc750c67-d3e2-4cc8-f0ab-ef8182ba9492"
   },
   "outputs": [
    {
     "data": {
      "text/html": [
       "<div>\n",
       "<style scoped>\n",
       "    .dataframe tbody tr th:only-of-type {\n",
       "        vertical-align: middle;\n",
       "    }\n",
       "\n",
       "    .dataframe tbody tr th {\n",
       "        vertical-align: top;\n",
       "    }\n",
       "\n",
       "    .dataframe thead th {\n",
       "        text-align: right;\n",
       "    }\n",
       "</style>\n",
       "<table border=\"1\" class=\"dataframe\">\n",
       "  <thead>\n",
       "    <tr style=\"text-align: right;\">\n",
       "      <th></th>\n",
       "      <th>row_id</th>\n",
       "      <th>time</th>\n",
       "      <th>x</th>\n",
       "      <th>y</th>\n",
       "      <th>direction</th>\n",
       "    </tr>\n",
       "  </thead>\n",
       "  <tbody>\n",
       "    <tr>\n",
       "      <th>0</th>\n",
       "      <td>848835</td>\n",
       "      <td>1991-09-30 12:00:00</td>\n",
       "      <td>0</td>\n",
       "      <td>0</td>\n",
       "      <td>EB</td>\n",
       "    </tr>\n",
       "    <tr>\n",
       "      <th>1</th>\n",
       "      <td>848836</td>\n",
       "      <td>1991-09-30 12:00:00</td>\n",
       "      <td>0</td>\n",
       "      <td>0</td>\n",
       "      <td>NB</td>\n",
       "    </tr>\n",
       "    <tr>\n",
       "      <th>2</th>\n",
       "      <td>848837</td>\n",
       "      <td>1991-09-30 12:00:00</td>\n",
       "      <td>0</td>\n",
       "      <td>0</td>\n",
       "      <td>SB</td>\n",
       "    </tr>\n",
       "    <tr>\n",
       "      <th>3</th>\n",
       "      <td>848838</td>\n",
       "      <td>1991-09-30 12:00:00</td>\n",
       "      <td>0</td>\n",
       "      <td>1</td>\n",
       "      <td>EB</td>\n",
       "    </tr>\n",
       "    <tr>\n",
       "      <th>4</th>\n",
       "      <td>848839</td>\n",
       "      <td>1991-09-30 12:00:00</td>\n",
       "      <td>0</td>\n",
       "      <td>1</td>\n",
       "      <td>NB</td>\n",
       "    </tr>\n",
       "  </tbody>\n",
       "</table>\n",
       "</div>"
      ],
      "text/plain": [
       "   row_id                 time  x  y direction\n",
       "0  848835  1991-09-30 12:00:00  0  0        EB\n",
       "1  848836  1991-09-30 12:00:00  0  0        NB\n",
       "2  848837  1991-09-30 12:00:00  0  0        SB\n",
       "3  848838  1991-09-30 12:00:00  0  1        EB\n",
       "4  848839  1991-09-30 12:00:00  0  1        NB"
      ]
     },
     "execution_count": 8,
     "metadata": {},
     "output_type": "execute_result"
    }
   ],
   "source": [
    "df_test.head()"
   ]
  },
  {
   "cell_type": "code",
   "execution_count": 9,
   "metadata": {
    "colab": {
     "base_uri": "https://localhost:8080/"
    },
    "id": "w4ECUGdb3R-7",
    "outputId": "0868ef88-a1a9-439d-a853-1a6277ebfa04"
   },
   "outputs": [
    {
     "name": "stdout",
     "output_type": "stream",
     "text": [
      "<class 'pandas.core.frame.DataFrame'>\n",
      "RangeIndex: 2340 entries, 0 to 2339\n",
      "Data columns (total 5 columns):\n",
      " #   Column     Non-Null Count  Dtype \n",
      "---  ------     --------------  ----- \n",
      " 0   row_id     2340 non-null   int64 \n",
      " 1   time       2340 non-null   object\n",
      " 2   x          2340 non-null   int64 \n",
      " 3   y          2340 non-null   int64 \n",
      " 4   direction  2340 non-null   object\n",
      "dtypes: int64(3), object(2)\n",
      "memory usage: 91.5+ KB\n"
     ]
    }
   ],
   "source": [
    "df_test.info()"
   ]
  },
  {
   "cell_type": "markdown",
   "metadata": {
    "id": "94mbTk41rSEV"
   },
   "source": [
    "### Feature engineering"
   ]
  },
  {
   "cell_type": "code",
   "execution_count": 10,
   "metadata": {
    "id": "P4pGIFox_G1b"
   },
   "outputs": [],
   "source": [
    "def feature_engineering(data):\n",
    "    data['time'] = pd.to_datetime(data['time'])\n",
    "    data['weekday'] = data['time'].dt.weekday\n",
    "    data['hour'] = data['time'].dt.hour\n",
    "    data['minute'] = data['time'].dt.minute\n",
    "    return data"
   ]
  },
  {
   "cell_type": "code",
   "execution_count": 11,
   "metadata": {
    "id": "T9b2YchzrYBi"
   },
   "outputs": [],
   "source": [
    "for data in df_train:\n",
    "    data = feature_engineering(df_train)"
   ]
  },
  {
   "cell_type": "code",
   "execution_count": 12,
   "metadata": {
    "id": "u4pX6-Mhs9Rb"
   },
   "outputs": [],
   "source": [
    "for data in df_test:\n",
    "    data = feature_engineering(df_test)"
   ]
  },
  {
   "cell_type": "markdown",
   "metadata": {
    "id": "YnIVFio9O1F5"
   },
   "source": [
    "### Data preprocessing"
   ]
  },
  {
   "cell_type": "code",
   "execution_count": 13,
   "metadata": {
    "id": "7iHBOUrtQglI"
   },
   "outputs": [],
   "source": [
    "df_train = df_train.drop(columns='row_id')\n",
    "df_train = df_train.drop(columns='time')\n",
    "\n",
    "df_train = pd.get_dummies(df_train, drop_first=True)"
   ]
  },
  {
   "cell_type": "code",
   "execution_count": 14,
   "metadata": {
    "id": "kIVs0ExQQo7q"
   },
   "outputs": [],
   "source": [
    "df_test = df_test.drop(columns='time')\n",
    "df_test = pd.get_dummies(df_test, drop_first=True)"
   ]
  },
  {
   "cell_type": "code",
   "execution_count": 15,
   "metadata": {
    "id": "_kfirqwB3Ryx"
   },
   "outputs": [],
   "source": [
    "features_train = df_train.drop('congestion', axis=1)\n",
    "target_train = df_train['congestion']"
   ]
  },
  {
   "cell_type": "code",
   "execution_count": 16,
   "metadata": {
    "id": "SEwN8AWXBYVB"
   },
   "outputs": [],
   "source": [
    "features_train, features_valid = train_test_split(features_train, test_size=0.25, random_state=12345)\n",
    "target_train, target_valid = train_test_split(target_train, test_size=0.25, random_state=12345)\n",
    "features_test = df_test.drop(columns='row_id')"
   ]
  },
  {
   "cell_type": "markdown",
   "metadata": {
    "id": "_6LfwMkRUm7_"
   },
   "source": [
    "## Data analysis"
   ]
  },
  {
   "cell_type": "markdown",
   "metadata": {
    "id": "Z-POESZcm1lX"
   },
   "source": [
    "### Train features"
   ]
  },
  {
   "cell_type": "code",
   "execution_count": 17,
   "metadata": {
    "colab": {
     "base_uri": "https://localhost:8080/",
     "height": 206
    },
    "id": "CzYicNJu_G1n",
    "outputId": "66a1bc94-2865-4775-ef91-63e8f12eb928",
    "scrolled": true
   },
   "outputs": [
    {
     "data": {
      "text/html": [
       "<div>\n",
       "<style scoped>\n",
       "    .dataframe tbody tr th:only-of-type {\n",
       "        vertical-align: middle;\n",
       "    }\n",
       "\n",
       "    .dataframe tbody tr th {\n",
       "        vertical-align: top;\n",
       "    }\n",
       "\n",
       "    .dataframe thead th {\n",
       "        text-align: right;\n",
       "    }\n",
       "</style>\n",
       "<table border=\"1\" class=\"dataframe\">\n",
       "  <thead>\n",
       "    <tr style=\"text-align: right;\">\n",
       "      <th></th>\n",
       "      <th>x</th>\n",
       "      <th>y</th>\n",
       "      <th>weekday</th>\n",
       "      <th>hour</th>\n",
       "      <th>minute</th>\n",
       "      <th>direction_NB</th>\n",
       "      <th>direction_NE</th>\n",
       "      <th>direction_NW</th>\n",
       "      <th>direction_SB</th>\n",
       "      <th>direction_SE</th>\n",
       "      <th>direction_SW</th>\n",
       "      <th>direction_WB</th>\n",
       "    </tr>\n",
       "  </thead>\n",
       "  <tbody>\n",
       "    <tr>\n",
       "      <th>606969</th>\n",
       "      <td>2</td>\n",
       "      <td>3</td>\n",
       "      <td>4</td>\n",
       "      <td>0</td>\n",
       "      <td>40</td>\n",
       "      <td>0</td>\n",
       "      <td>0</td>\n",
       "      <td>0</td>\n",
       "      <td>0</td>\n",
       "      <td>0</td>\n",
       "      <td>0</td>\n",
       "      <td>1</td>\n",
       "    </tr>\n",
       "    <tr>\n",
       "      <th>426916</th>\n",
       "      <td>2</td>\n",
       "      <td>3</td>\n",
       "      <td>0</td>\n",
       "      <td>11</td>\n",
       "      <td>40</td>\n",
       "      <td>0</td>\n",
       "      <td>1</td>\n",
       "      <td>0</td>\n",
       "      <td>0</td>\n",
       "      <td>0</td>\n",
       "      <td>0</td>\n",
       "      <td>0</td>\n",
       "    </tr>\n",
       "    <tr>\n",
       "      <th>611618</th>\n",
       "      <td>1</td>\n",
       "      <td>3</td>\n",
       "      <td>5</td>\n",
       "      <td>0</td>\n",
       "      <td>40</td>\n",
       "      <td>0</td>\n",
       "      <td>0</td>\n",
       "      <td>0</td>\n",
       "      <td>0</td>\n",
       "      <td>0</td>\n",
       "      <td>0</td>\n",
       "      <td>0</td>\n",
       "    </tr>\n",
       "    <tr>\n",
       "      <th>708270</th>\n",
       "      <td>1</td>\n",
       "      <td>2</td>\n",
       "      <td>4</td>\n",
       "      <td>22</td>\n",
       "      <td>20</td>\n",
       "      <td>0</td>\n",
       "      <td>0</td>\n",
       "      <td>0</td>\n",
       "      <td>1</td>\n",
       "      <td>0</td>\n",
       "      <td>0</td>\n",
       "      <td>0</td>\n",
       "    </tr>\n",
       "    <tr>\n",
       "      <th>198118</th>\n",
       "      <td>2</td>\n",
       "      <td>3</td>\n",
       "      <td>0</td>\n",
       "      <td>12</td>\n",
       "      <td>20</td>\n",
       "      <td>0</td>\n",
       "      <td>0</td>\n",
       "      <td>0</td>\n",
       "      <td>0</td>\n",
       "      <td>0</td>\n",
       "      <td>1</td>\n",
       "      <td>0</td>\n",
       "    </tr>\n",
       "  </tbody>\n",
       "</table>\n",
       "</div>"
      ],
      "text/plain": [
       "        x  y  weekday  hour  minute  direction_NB  direction_NE  direction_NW  \\\n",
       "606969  2  3        4     0      40             0             0             0   \n",
       "426916  2  3        0    11      40             0             1             0   \n",
       "611618  1  3        5     0      40             0             0             0   \n",
       "708270  1  2        4    22      20             0             0             0   \n",
       "198118  2  3        0    12      20             0             0             0   \n",
       "\n",
       "        direction_SB  direction_SE  direction_SW  direction_WB  \n",
       "606969             0             0             0             1  \n",
       "426916             0             0             0             0  \n",
       "611618             0             0             0             0  \n",
       "708270             1             0             0             0  \n",
       "198118             0             0             1             0  "
      ]
     },
     "execution_count": 17,
     "metadata": {},
     "output_type": "execute_result"
    }
   ],
   "source": [
    "features_train.head()"
   ]
  },
  {
   "cell_type": "code",
   "execution_count": 18,
   "metadata": {
    "colab": {
     "base_uri": "https://localhost:8080/",
     "height": 206
    },
    "id": "GUxAsUFf_G1o",
    "outputId": "18a8889b-87ea-4b80-a3f0-9269684ff2d8",
    "scrolled": false
   },
   "outputs": [
    {
     "data": {
      "text/html": [
       "<div>\n",
       "<style scoped>\n",
       "    .dataframe tbody tr th:only-of-type {\n",
       "        vertical-align: middle;\n",
       "    }\n",
       "\n",
       "    .dataframe tbody tr th {\n",
       "        vertical-align: top;\n",
       "    }\n",
       "\n",
       "    .dataframe thead th {\n",
       "        text-align: right;\n",
       "    }\n",
       "</style>\n",
       "<table border=\"1\" class=\"dataframe\">\n",
       "  <thead>\n",
       "    <tr style=\"text-align: right;\">\n",
       "      <th></th>\n",
       "      <th>x</th>\n",
       "      <th>y</th>\n",
       "      <th>weekday</th>\n",
       "      <th>hour</th>\n",
       "      <th>minute</th>\n",
       "      <th>direction_NB</th>\n",
       "      <th>direction_NE</th>\n",
       "      <th>direction_NW</th>\n",
       "      <th>direction_SB</th>\n",
       "      <th>direction_SE</th>\n",
       "      <th>direction_SW</th>\n",
       "      <th>direction_WB</th>\n",
       "    </tr>\n",
       "  </thead>\n",
       "  <tbody>\n",
       "    <tr>\n",
       "      <th>548072</th>\n",
       "      <td>2</td>\n",
       "      <td>2</td>\n",
       "      <td>5</td>\n",
       "      <td>10</td>\n",
       "      <td>0</td>\n",
       "      <td>0</td>\n",
       "      <td>0</td>\n",
       "      <td>0</td>\n",
       "      <td>0</td>\n",
       "      <td>0</td>\n",
       "      <td>1</td>\n",
       "      <td>0</td>\n",
       "    </tr>\n",
       "    <tr>\n",
       "      <th>646334</th>\n",
       "      <td>2</td>\n",
       "      <td>0</td>\n",
       "      <td>5</td>\n",
       "      <td>11</td>\n",
       "      <td>20</td>\n",
       "      <td>0</td>\n",
       "      <td>0</td>\n",
       "      <td>0</td>\n",
       "      <td>0</td>\n",
       "      <td>0</td>\n",
       "      <td>0</td>\n",
       "      <td>0</td>\n",
       "    </tr>\n",
       "    <tr>\n",
       "      <th>485489</th>\n",
       "      <td>0</td>\n",
       "      <td>1</td>\n",
       "      <td>6</td>\n",
       "      <td>0</td>\n",
       "      <td>20</td>\n",
       "      <td>1</td>\n",
       "      <td>0</td>\n",
       "      <td>0</td>\n",
       "      <td>0</td>\n",
       "      <td>0</td>\n",
       "      <td>0</td>\n",
       "      <td>0</td>\n",
       "    </tr>\n",
       "    <tr>\n",
       "      <th>356339</th>\n",
       "      <td>0</td>\n",
       "      <td>2</td>\n",
       "      <td>6</td>\n",
       "      <td>10</td>\n",
       "      <td>0</td>\n",
       "      <td>0</td>\n",
       "      <td>0</td>\n",
       "      <td>0</td>\n",
       "      <td>1</td>\n",
       "      <td>0</td>\n",
       "      <td>0</td>\n",
       "      <td>0</td>\n",
       "    </tr>\n",
       "    <tr>\n",
       "      <th>505036</th>\n",
       "      <td>2</td>\n",
       "      <td>2</td>\n",
       "      <td>3</td>\n",
       "      <td>4</td>\n",
       "      <td>20</td>\n",
       "      <td>0</td>\n",
       "      <td>0</td>\n",
       "      <td>0</td>\n",
       "      <td>0</td>\n",
       "      <td>0</td>\n",
       "      <td>0</td>\n",
       "      <td>0</td>\n",
       "    </tr>\n",
       "  </tbody>\n",
       "</table>\n",
       "</div>"
      ],
      "text/plain": [
       "        x  y  weekday  hour  minute  direction_NB  direction_NE  direction_NW  \\\n",
       "548072  2  2        5    10       0             0             0             0   \n",
       "646334  2  0        5    11      20             0             0             0   \n",
       "485489  0  1        6     0      20             1             0             0   \n",
       "356339  0  2        6    10       0             0             0             0   \n",
       "505036  2  2        3     4      20             0             0             0   \n",
       "\n",
       "        direction_SB  direction_SE  direction_SW  direction_WB  \n",
       "548072             0             0             1             0  \n",
       "646334             0             0             0             0  \n",
       "485489             0             0             0             0  \n",
       "356339             1             0             0             0  \n",
       "505036             0             0             0             0  "
      ]
     },
     "execution_count": 18,
     "metadata": {},
     "output_type": "execute_result"
    }
   ],
   "source": [
    "features_valid.head()"
   ]
  },
  {
   "cell_type": "code",
   "execution_count": 19,
   "metadata": {
    "colab": {
     "base_uri": "https://localhost:8080/",
     "height": 206
    },
    "id": "0-iOM8hE_G1o",
    "outputId": "73eb7fae-c181-489b-c79c-57764840fcbb"
   },
   "outputs": [
    {
     "data": {
      "text/html": [
       "<div>\n",
       "<style scoped>\n",
       "    .dataframe tbody tr th:only-of-type {\n",
       "        vertical-align: middle;\n",
       "    }\n",
       "\n",
       "    .dataframe tbody tr th {\n",
       "        vertical-align: top;\n",
       "    }\n",
       "\n",
       "    .dataframe thead th {\n",
       "        text-align: right;\n",
       "    }\n",
       "</style>\n",
       "<table border=\"1\" class=\"dataframe\">\n",
       "  <thead>\n",
       "    <tr style=\"text-align: right;\">\n",
       "      <th></th>\n",
       "      <th>x</th>\n",
       "      <th>y</th>\n",
       "      <th>weekday</th>\n",
       "      <th>hour</th>\n",
       "      <th>minute</th>\n",
       "      <th>direction_NB</th>\n",
       "      <th>direction_NE</th>\n",
       "      <th>direction_NW</th>\n",
       "      <th>direction_SB</th>\n",
       "      <th>direction_SE</th>\n",
       "      <th>direction_SW</th>\n",
       "      <th>direction_WB</th>\n",
       "    </tr>\n",
       "  </thead>\n",
       "  <tbody>\n",
       "    <tr>\n",
       "      <th>0</th>\n",
       "      <td>0</td>\n",
       "      <td>0</td>\n",
       "      <td>0</td>\n",
       "      <td>12</td>\n",
       "      <td>0</td>\n",
       "      <td>0</td>\n",
       "      <td>0</td>\n",
       "      <td>0</td>\n",
       "      <td>0</td>\n",
       "      <td>0</td>\n",
       "      <td>0</td>\n",
       "      <td>0</td>\n",
       "    </tr>\n",
       "    <tr>\n",
       "      <th>1</th>\n",
       "      <td>0</td>\n",
       "      <td>0</td>\n",
       "      <td>0</td>\n",
       "      <td>12</td>\n",
       "      <td>0</td>\n",
       "      <td>1</td>\n",
       "      <td>0</td>\n",
       "      <td>0</td>\n",
       "      <td>0</td>\n",
       "      <td>0</td>\n",
       "      <td>0</td>\n",
       "      <td>0</td>\n",
       "    </tr>\n",
       "    <tr>\n",
       "      <th>2</th>\n",
       "      <td>0</td>\n",
       "      <td>0</td>\n",
       "      <td>0</td>\n",
       "      <td>12</td>\n",
       "      <td>0</td>\n",
       "      <td>0</td>\n",
       "      <td>0</td>\n",
       "      <td>0</td>\n",
       "      <td>1</td>\n",
       "      <td>0</td>\n",
       "      <td>0</td>\n",
       "      <td>0</td>\n",
       "    </tr>\n",
       "    <tr>\n",
       "      <th>3</th>\n",
       "      <td>0</td>\n",
       "      <td>1</td>\n",
       "      <td>0</td>\n",
       "      <td>12</td>\n",
       "      <td>0</td>\n",
       "      <td>0</td>\n",
       "      <td>0</td>\n",
       "      <td>0</td>\n",
       "      <td>0</td>\n",
       "      <td>0</td>\n",
       "      <td>0</td>\n",
       "      <td>0</td>\n",
       "    </tr>\n",
       "    <tr>\n",
       "      <th>4</th>\n",
       "      <td>0</td>\n",
       "      <td>1</td>\n",
       "      <td>0</td>\n",
       "      <td>12</td>\n",
       "      <td>0</td>\n",
       "      <td>1</td>\n",
       "      <td>0</td>\n",
       "      <td>0</td>\n",
       "      <td>0</td>\n",
       "      <td>0</td>\n",
       "      <td>0</td>\n",
       "      <td>0</td>\n",
       "    </tr>\n",
       "  </tbody>\n",
       "</table>\n",
       "</div>"
      ],
      "text/plain": [
       "   x  y  weekday  hour  minute  direction_NB  direction_NE  direction_NW  \\\n",
       "0  0  0        0    12       0             0             0             0   \n",
       "1  0  0        0    12       0             1             0             0   \n",
       "2  0  0        0    12       0             0             0             0   \n",
       "3  0  1        0    12       0             0             0             0   \n",
       "4  0  1        0    12       0             1             0             0   \n",
       "\n",
       "   direction_SB  direction_SE  direction_SW  direction_WB  \n",
       "0             0             0             0             0  \n",
       "1             0             0             0             0  \n",
       "2             1             0             0             0  \n",
       "3             0             0             0             0  \n",
       "4             0             0             0             0  "
      ]
     },
     "execution_count": 19,
     "metadata": {},
     "output_type": "execute_result"
    }
   ],
   "source": [
    "features_test.head()"
   ]
  },
  {
   "cell_type": "code",
   "execution_count": 20,
   "metadata": {
    "colab": {
     "base_uri": "https://localhost:8080/"
    },
    "id": "fIoJAf2iUpeQ",
    "outputId": "5b71c11a-ac3b-4f97-8458-0be15b53c2da"
   },
   "outputs": [
    {
     "data": {
      "text/plain": [
       "2    254715\n",
       "1    215601\n",
       "0    166310\n",
       "Name: x, dtype: int64"
      ]
     },
     "execution_count": 20,
     "metadata": {},
     "output_type": "execute_result"
    }
   ],
   "source": [
    "features_train['x'].value_counts()"
   ]
  },
  {
   "cell_type": "code",
   "execution_count": 21,
   "metadata": {
    "colab": {
     "base_uri": "https://localhost:8080/"
    },
    "id": "ycGCu4yNUpa-",
    "outputId": "7bb88bd1-c37a-4cdb-d2a1-5fc091ea3159"
   },
   "outputs": [
    {
     "data": {
      "text/plain": [
       "2    176299\n",
       "3    176246\n",
       "1    156608\n",
       "0    127473\n",
       "Name: y, dtype: int64"
      ]
     },
     "execution_count": 21,
     "metadata": {},
     "output_type": "execute_result"
    }
   ],
   "source": [
    "features_train['y'].value_counts()"
   ]
  },
  {
   "cell_type": "markdown",
   "metadata": {
    "id": "jxxTuFR4mpcW"
   },
   "source": [
    "### Target feature"
   ]
  },
  {
   "cell_type": "code",
   "execution_count": 22,
   "metadata": {
    "colab": {
     "base_uri": "https://localhost:8080/"
    },
    "id": "EI_9TByJUpU3",
    "outputId": "9a379d5d-fed9-45bd-c199-57bc86a65626"
   },
   "outputs": [
    {
     "data": {
      "text/plain": [
       "34    26498\n",
       "40    19797\n",
       "47    19418\n",
       "29    19236\n",
       "48    19013\n",
       "      ...  \n",
       "95      140\n",
       "97      104\n",
       "98       87\n",
       "1        48\n",
       "99       42\n",
       "Name: congestion, Length: 101, dtype: int64"
      ]
     },
     "execution_count": 22,
     "metadata": {},
     "output_type": "execute_result"
    }
   ],
   "source": [
    "df_train['congestion'].value_counts()"
   ]
  },
  {
   "cell_type": "code",
   "execution_count": 23,
   "metadata": {
    "colab": {
     "base_uri": "https://localhost:8080/",
     "height": 464
    },
    "id": "Lup6lYzjhsVZ",
    "outputId": "415955ac-5e51-40f9-ec21-e81068e9ee53"
   },
   "outputs": [
    {
     "data": {
      "image/png": "[encoded data removed]",
      "text/plain": [
       "<Figure size 1080x216 with 1 Axes>"
      ]
     },
     "metadata": {
      "needs_background": "light"
     },
     "output_type": "display_data"
    },
    {
     "data": {
      "image/png": "[encoded data removed]",
      "text/plain": [
       "<Figure size 1080x216 with 1 Axes>"
      ]
     },
     "metadata": {
      "needs_background": "light"
     },
     "output_type": "display_data"
    }
   ],
   "source": [
    "plt.figure(figsize=(15, 3))\n",
    "sns.histplot(data=df_train, x='congestion', kde=True, bins=30, color='green')\n",
    "\n",
    "plt.title(f'Distribution')\n",
    "plt.ylabel('Amount')\n",
    "plt.xlabel('congestion')\n",
    "plt.grid(color='grey', axis='both', alpha=0.5)\n",
    "plt.xticks(np.arange(0, 105, 10))\n",
    "plt.yticks(np.arange(0, 75000, 5000))\n",
    "plt.show()\n",
    "\n",
    "plt.rcParams['figure.figsize']=(15, 3)\n",
    "sns.boxplot( data=df_train['congestion'], orient=\"h\" )\n",
    "plt.title(f'Boxplot')\n",
    "plt.xlabel('congestion')\n",
    "plt.grid(color='grey', axis='both', alpha=.8)\n",
    "plt.xticks(np.arange(0, 105, 10))\n",
    "plt.show()"
   ]
  },
  {
   "cell_type": "markdown",
   "metadata": {
    "id": "6Cqv-LbOG4zx"
   },
   "source": [
    "### Feature correlation "
   ]
  },
  {
   "cell_type": "code",
   "execution_count": 24,
   "metadata": {
    "colab": {
     "base_uri": "https://localhost:8080/",
     "height": 452
    },
    "id": "lX3M-iqTGxWB",
    "outputId": "4c5a7527-ceaa-4ff3-f20e-6450242801b1"
   },
   "outputs": [
    {
     "data": {
      "text/plain": [
       "Text(0.5, 1.0, 'Correlation Heatmap')"
      ]
     },
     "execution_count": 24,
     "metadata": {},
     "output_type": "execute_result"
    },
    {
     "data": {
      "image/png": "[encoded data removed]",
      "text/plain": [
       "<Figure size 1152x432 with 2 Axes>"
      ]
     },
     "metadata": {
      "needs_background": "light"
     },
     "output_type": "display_data"
    }
   ],
   "source": [
    "plt.figure(figsize=(16, 6))\n",
    "heatmap = sns.heatmap(df_train.corr(), vmin=-1, vmax=1, annot=True)\n",
    "heatmap.set_title('Correlation Heatmap', fontdict={'fontsize':12}, pad=12)"
   ]
  },
  {
   "cell_type": "markdown",
   "metadata": {
    "id": "WxOFhyrnO_Io"
   },
   "source": [
    "## Train and validate models"
   ]
  },
  {
   "cell_type": "markdown",
   "metadata": {
    "id": "MvYqKmIbPBsA"
   },
   "source": [
    "### Random forest regressor"
   ]
  },
  {
   "cell_type": "code",
   "execution_count": null,
   "metadata": {
    "id": "p9SyVbMfBYSv"
   },
   "outputs": [],
   "source": [
    "%%time\n",
    "\n",
    "\n",
    "rf = RandomForestRegressor(random_state=123)\n",
    "\n",
    "params = {'n_estimators': [100, 150, 250, 300],\n",
    "          'max_depth': [5, 7, 9, 15, 20],\n",
    "          'min_samples_leaf' : [1, 2],\n",
    "          'max_features':['auto'],\n",
    "          'min_samples_split': [2, 4],\n",
    "          }\n",
    "\n",
    "cv_rfc_model = GridSearchCV(estimator=rf, param_grid=params, n_jobs=-1, cv=5)\n",
    "\n",
    "cv_rfc_model.fit(features_train, target_train)"
   ]
  },
  {
   "cell_type": "code",
   "execution_count": null,
   "metadata": {
    "id": "rsUZLO8gBYRZ"
   },
   "outputs": [],
   "source": [
    "cv_rfc_model.best_params_"
   ]
  },
  {
   "cell_type": "code",
   "execution_count": 25,
   "metadata": {
    "colab": {
     "base_uri": "https://localhost:8080/"
    },
    "id": "OsotW7T6BYPB",
    "outputId": "a41218d8-4098-4a11-d294-9191feb50da7"
   },
   "outputs": [
    {
     "data": {
      "text/plain": [
       "RandomForestRegressor(max_depth=20, n_estimators=300, random_state=123)"
      ]
     },
     "execution_count": 25,
     "metadata": {},
     "output_type": "execute_result"
    }
   ],
   "source": [
    "rfc_best_model = RandomForestRegressor(max_depth=20, min_samples_leaf=1, min_samples_split=2, n_estimators=300, random_state=123)\n",
    "rfc_best_model.fit(features_train, target_train)"
   ]
  },
  {
   "cell_type": "code",
   "execution_count": 26,
   "metadata": {
    "id": "W-vIiYfUFOcc"
   },
   "outputs": [],
   "source": [
    "predictions_valid = rfc_best_model.predict(features_valid)"
   ]
  },
  {
   "cell_type": "code",
   "execution_count": 27,
   "metadata": {
    "colab": {
     "base_uri": "https://localhost:8080/"
    },
    "id": "0G9fp_BMBYNR",
    "outputId": "7ee05876-e5cb-4a74-bbbe-1bb758591e88"
   },
   "outputs": [
    {
     "data": {
      "text/plain": [
       "6.336206914693241"
      ]
     },
     "execution_count": 27,
     "metadata": {},
     "output_type": "execute_result"
    }
   ],
   "source": [
    "mean_absolute_error(target_valid, predictions_valid)"
   ]
  },
  {
   "cell_type": "markdown",
   "metadata": {
    "id": "JODwzB59PG0E"
   },
   "source": [
    "### Extreme gradient boosting regressor"
   ]
  },
  {
   "cell_type": "code",
   "execution_count": null,
   "metadata": {
    "id": "w7oOvL-kBYLo",
    "scrolled": true
   },
   "outputs": [],
   "source": [
    "%%time\n",
    "\n",
    "\n",
    "exg = xgb.XGBRegressor(verbosity=0, random_state=123)\n",
    "\n",
    "params = {'n_estimators': [100, 150, 200, 300]}\n",
    "\n",
    "cv_exg_model = GridSearchCV(estimator=exg, param_grid=params, n_jobs=10, cv=10)\n",
    "\n",
    "cv_exg_model.fit(features_train, target_train)"
   ]
  },
  {
   "cell_type": "code",
   "execution_count": null,
   "metadata": {
    "id": "7c9wYVlgcVAq"
   },
   "outputs": [],
   "source": [
    "cv_exg_model.best_params_"
   ]
  },
  {
   "cell_type": "code",
   "execution_count": null,
   "metadata": {
    "id": "lYFUTybBWPqk"
   },
   "outputs": [],
   "source": [
    "predictions_valid_exg = cv_exg_model.predict(features_valid)"
   ]
  },
  {
   "cell_type": "code",
   "execution_count": null,
   "metadata": {
    "id": "uxJyni5zWPmx"
   },
   "outputs": [],
   "source": [
    "mean_absolute_error(target_valid, predictions_valid_exg)"
   ]
  },
  {
   "cell_type": "markdown",
   "metadata": {
    "id": "b8_mGqIZRNNl"
   },
   "source": [
    "### Linear regression"
   ]
  },
  {
   "cell_type": "code",
   "execution_count": 28,
   "metadata": {
    "colab": {
     "base_uri": "https://localhost:8080/"
    },
    "id": "z0G_rMzOeX6T",
    "outputId": "04bd9e6f-225a-410d-abf2-8117857937a4"
   },
   "outputs": [
    {
     "data": {
      "text/plain": [
       "LinearRegression()"
      ]
     },
     "execution_count": 28,
     "metadata": {},
     "output_type": "execute_result"
    }
   ],
   "source": [
    "lr_best_model = LinearRegression()\n",
    "lr_best_model.fit(features_train, target_train)"
   ]
  },
  {
   "cell_type": "code",
   "execution_count": 29,
   "metadata": {
    "id": "_9gRCN81eX4e"
   },
   "outputs": [],
   "source": [
    "predictions_valid_exg = lr_best_model.predict(features_valid)"
   ]
  },
  {
   "cell_type": "code",
   "execution_count": 30,
   "metadata": {
    "colab": {
     "base_uri": "https://localhost:8080/"
    },
    "id": "mLgDwEh5eX2i",
    "outputId": "3b0c909b-b096-4580-a203-5d3ac22b25af",
    "scrolled": true
   },
   "outputs": [
    {
     "data": {
      "text/plain": [
       "12.166671386125127"
      ]
     },
     "execution_count": 30,
     "metadata": {},
     "output_type": "execute_result"
    }
   ],
   "source": [
    "mean_absolute_error(target_valid, predictions_valid_exg)"
   ]
  },
  {
   "cell_type": "markdown",
   "metadata": {
    "id": "rABFi-WtcVAs"
   },
   "source": [
    "### Cat boost regressor"
   ]
  },
  {
   "cell_type": "code",
   "execution_count": null,
   "metadata": {
    "id": "p4I2Ke31_G1_"
   },
   "outputs": [],
   "source": [
    "CBR = CatBoostRegressor()\n",
    "\n",
    "parameters = {'verbose' : [25, 50, 100],\n",
    "              'early_stopping_rounds' : [5, 10],\n",
    "              'random_seed' : [1000, 2000],\n",
    "              'max_depth' : [5, 10 ,15],\n",
    "              'learning_rate' : [0.01, 0.02, 0.03, 0.04, 0.05],\n",
    "              'iterations' :  [100, 250, 500],\n",
    "              'loss_function' : ['MAE'],\n",
    "              'eval_metric' : ['MAE'],\n",
    "             }\n",
    "\n",
    "Grid_CBC = GridSearchCV(estimator=CBR, param_grid=parameters, cv=5, n_jobs=-1)\n",
    "Grid_CBC.fit(features_train, target_train)"
   ]
  },
  {
   "cell_type": "code",
   "execution_count": null,
   "metadata": {
    "id": "Ik77WCnX_G1_",
    "scrolled": false
   },
   "outputs": [],
   "source": [
    "Grid_CBC.best_params_"
   ]
  },
  {
   "cell_type": "code",
   "execution_count": 31,
   "metadata": {
    "id": "wF7zvyvhHt9i"
   },
   "outputs": [
    {
     "name": "stdout",
     "output_type": "stream",
     "text": [
      "0:\tlearn: 13.3890883\ttotal: 177ms\tremaining: 1m 28s\n",
      "25:\tlearn: 7.7855386\ttotal: 3.12s\tremaining: 56.9s\n",
      "50:\tlearn: 6.8179240\ttotal: 6.06s\tremaining: 53.4s\n",
      "75:\tlearn: 6.5690001\ttotal: 8.93s\tremaining: 49.8s\n",
      "100:\tlearn: 6.4761201\ttotal: 11.6s\tremaining: 45.7s\n",
      "125:\tlearn: 6.4217848\ttotal: 14.1s\tremaining: 42s\n",
      "150:\tlearn: 6.3864344\ttotal: 16.7s\tremaining: 38.6s\n",
      "175:\tlearn: 6.3629610\ttotal: 19.1s\tremaining: 35.1s\n",
      "200:\tlearn: 6.3428902\ttotal: 21.6s\tremaining: 32.1s\n",
      "225:\tlearn: 6.3344006\ttotal: 23.6s\tremaining: 28.6s\n",
      "250:\tlearn: 6.3226016\ttotal: 25.9s\tremaining: 25.7s\n",
      "275:\tlearn: 6.3140849\ttotal: 28.2s\tremaining: 22.9s\n",
      "300:\tlearn: 6.3075299\ttotal: 30.9s\tremaining: 20.4s\n",
      "325:\tlearn: 6.3013137\ttotal: 33.7s\tremaining: 18s\n",
      "350:\tlearn: 6.2892274\ttotal: 36.5s\tremaining: 15.5s\n",
      "375:\tlearn: 6.2484090\ttotal: 39.3s\tremaining: 13s\n",
      "400:\tlearn: 6.2372239\ttotal: 42s\tremaining: 10.4s\n",
      "425:\tlearn: 6.2301492\ttotal: 44.7s\tremaining: 7.77s\n",
      "450:\tlearn: 6.2214531\ttotal: 47.5s\tremaining: 5.16s\n",
      "475:\tlearn: 6.2178913\ttotal: 50.2s\tremaining: 2.53s\n",
      "499:\tlearn: 6.2146425\ttotal: 52.8s\tremaining: 0us\n"
     ]
    },
    {
     "data": {
      "text/plain": [
       "<catboost.core.CatBoostRegressor at 0x216cafa43d0>"
      ]
     },
     "execution_count": 31,
     "metadata": {},
     "output_type": "execute_result"
    }
   ],
   "source": [
    "cbr_best_model = CatBoostRegressor(early_stopping_rounds=5, eval_metric='MAE', \n",
    "                                   iterations=500, learning_rate=0.05, loss_function='MAE', \n",
    "                                   max_depth=15, random_seed=2000, verbose=25\n",
    "                                   )\n",
    "\n",
    "cbr_best_model.fit(features_train, target_train)"
   ]
  },
  {
   "cell_type": "code",
   "execution_count": 32,
   "metadata": {
    "id": "qQww8pR-cVAt"
   },
   "outputs": [],
   "source": [
    "predictions_valid = cbr_best_model.predict(features_valid)"
   ]
  },
  {
   "cell_type": "code",
   "execution_count": 33,
   "metadata": {
    "id": "3z9hWvhgcVAt",
    "scrolled": true
   },
   "outputs": [
    {
     "data": {
      "text/plain": [
       "6.293241136731521"
      ]
     },
     "execution_count": 33,
     "metadata": {},
     "output_type": "execute_result"
    }
   ],
   "source": [
    "mean_absolute_error(target_valid, predictions_valid)"
   ]
  },
  {
   "cell_type": "markdown",
   "metadata": {
    "id": "deqwjh8vwAfZ"
   },
   "source": [
    "## Test of the best models"
   ]
  },
  {
   "cell_type": "code",
   "execution_count": 34,
   "metadata": {
    "id": "_g01VK_cHdJ1"
   },
   "outputs": [],
   "source": [
    "features_test = df_test.drop('row_id', axis=1)"
   ]
  },
  {
   "cell_type": "code",
   "execution_count": 35,
   "metadata": {
    "id": "yBTTLTWtpvJQ"
   },
   "outputs": [],
   "source": [
    "df_test['congestion'] = list(rfc_best_model.predict(features_test))"
   ]
  },
  {
   "cell_type": "markdown",
   "metadata": {
    "id": "V_FTL_5SJJYI"
   },
   "source": [
    "### Random forest regressor prediction\n"
   ]
  },
  {
   "cell_type": "code",
   "execution_count": null,
   "metadata": {
    "id": "qn9TnMtbqxIk"
   },
   "outputs": [],
   "source": [
    "df_test['congestion'] = list(rfc_best_model.predict(features_test))\n",
    "df_test = df_test[['row_id', 'congestion']]\n",
    "df_test.to_csv(r\"/content/rfc_best_model.csv\", index=False)\n",
    "df_test.head()"
   ]
  },
  {
   "cell_type": "markdown",
   "metadata": {
    "id": "dxWraaPqJNi8"
   },
   "source": [
    "### Catboost regressor prediction"
   ]
  },
  {
   "cell_type": "code",
   "execution_count": null,
   "metadata": {
    "id": "GfcQnvF7oarF"
   },
   "outputs": [],
   "source": [
    "df_test['congestion'] = list(cbr_best_model.predict(features_test))\n",
    "df_test = df_test[['row_id', 'congestion']]\n",
    "df_test.to_csv(r\"/content/cbr_best_model.csv\", index=False)\n",
    "df_test.head()"
   ]
  },
  {
   "cell_type": "markdown",
   "metadata": {
    "id": "hspChqG_PjTP"
   },
   "source": [
    "## General conclusion"
   ]
  },
  {
   "cell_type": "code",
   "execution_count": null,
   "metadata": {
    "id": "l2a9gjA4wioH"
   },
   "outputs": [],
   "source": [
    "# MAE 1 score: 5.137 (my in collab 6.771626217607527) - XGBRe\n",
    "# MAE 2 score: 5.096 (my in collab 6.728822236988457) - RandomForestRegressor\n",
    "# MAE 3 score: 5.219 (my in collab 6.436506568386449) - XGBReScore: \n",
    "# MAE 4 score: 5.198 (my in collab 6.312052246252551) - XGBReScore: \n",
    "# MAE 5 score: 5.023 (my in collab 6.293241136731521) - CBR + GridSearch: "
   ]
  },
  {
   "cell_type": "markdown",
   "metadata": {
    "id": "8izZyyHtJtKH"
   },
   "source": [
    "**Results:**\n",
    "\n",
    "1. `Cat boost regressor`:  \n",
    "Mean absolute error = 6.293, Kaggle MAE = 5.023;\n",
    "\n",
    "2. `Random forest regressor`:  \n",
    "Mean absolute error = 6.336, Kaggle MAE = 5.096;\n",
    "\n",
    "3. `Extreme gradient boosting regressor`:  \n",
    "Mean absolute error = 6.436, Kaggle MAE = 5.198;\n",
    "\n",
    "4. `Linear regression`:  \n",
    "Mean absolute error = 12.166, Kaggle MAE = 14.456."
   ]
  }
 ],
 "metadata": {
  "colab": {
   "collapsed_sections": [],
   "name": "tabular_playground_series_mar_2022.ipynb",
   "provenance": [],
   "toc_visible": true
  },
  "kernelspec": {
   "display_name": "Python 3 (ipykernel)",
   "language": "python",
   "name": "python3"
  },
  "language_info": {
   "codemirror_mode": {
    "name": "ipython",
    "version": 3
   },
   "file_extension": ".py",
   "mimetype": "text/x-python",
   "name": "python",
   "nbconvert_exporter": "python",
   "pygments_lexer": "ipython3",
   "version": "3.9.7"
  }
 },
 "nbformat": 4,
 "nbformat_minor": 1
}
